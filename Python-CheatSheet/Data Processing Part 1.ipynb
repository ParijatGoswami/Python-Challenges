{
 "cells": [
  {
   "cell_type": "markdown",
   "metadata": {},
   "source": [
    "# Python - Pandas Data Processing Cheatsheet by Parijat"
   ]
  },
  {
   "cell_type": "markdown",
   "metadata": {},
   "source": [
    "## Table of Contents\n",
    "\n",
    "1. [Basic Analysis](#1)<br>\n",
    "    1.1 [Creating a Test Dictionary for forum Questions](#1.1)<br>\n",
    "    1.2 [Explore basic information](#1.2)<br>\n",
    "    1.3 [Selecting data from dataframe](#1.3)<br>\n",
    "    1.4 [Filtering a cell based on conditions (number and text filter)](#1.4)<br>\n",
    "    1.5 [Filtering a cell based on conditions (DateTime Filer)](#1.5)<br>\n",
    "    1.6 [Create Month Column from existing Datetime/Timestamp](#1.6)<br>\n",
    "2. [Turning Data into Information](2)<br>\n",
    "    2.1 [Simple Infomation Extract](#2.1)<br>\n",
    "    2.2 [Joining multiple dataframe with a key](#2.2)><br>\n",
    "    2.3 [Grouping on Single Column and Aggregation on Single column](#2.3)<br>\n",
    "    2.4 [Grouping on Single Column and Aggregation on Multiple Columns](#2.4)<br>\n",
    "    2.5 [Grouping on Multiple Column and Aggregation on Multiple Columns and Sorting](#2.5)<br>\n",
    "    \n",
    "\n"
   ]
  },
  {
   "cell_type": "markdown",
   "metadata": {},
   "source": [
    "## 1. Basic Analysis <a name=\"1\"></a>"
   ]
  },
  {
   "cell_type": "markdown",
   "metadata": {},
   "source": [
    "### <span style=\"color:blue\"> 1.1 Creating a Test Dictionary for forum Questions </span> <a name=\"##1.1\"></a>"
   ]
  },
  {
   "cell_type": "code",
   "execution_count": 1,
   "metadata": {},
   "outputs": [
    {
     "data": {
      "text/html": [
       "<div>\n",
       "<style scoped>\n",
       "    .dataframe tbody tr th:only-of-type {\n",
       "        vertical-align: middle;\n",
       "    }\n",
       "\n",
       "    .dataframe tbody tr th {\n",
       "        vertical-align: top;\n",
       "    }\n",
       "\n",
       "    .dataframe thead th {\n",
       "        text-align: right;\n",
       "    }\n",
       "</style>\n",
       "<table border=\"1\" class=\"dataframe\">\n",
       "  <thead>\n",
       "    <tr style=\"text-align: right;\">\n",
       "      <th></th>\n",
       "      <th>course name</th>\n",
       "      <th>RatingDay</th>\n",
       "      <th>Rating</th>\n",
       "      <th>VenueCharge</th>\n",
       "    </tr>\n",
       "  </thead>\n",
       "  <tbody>\n",
       "    <tr>\n",
       "      <th>0</th>\n",
       "      <td>A</td>\n",
       "      <td>1</td>\n",
       "      <td>4.0</td>\n",
       "      <td>21</td>\n",
       "    </tr>\n",
       "    <tr>\n",
       "      <th>1</th>\n",
       "      <td>B</td>\n",
       "      <td>1</td>\n",
       "      <td>4.5</td>\n",
       "      <td>26</td>\n",
       "    </tr>\n",
       "    <tr>\n",
       "      <th>2</th>\n",
       "      <td>A</td>\n",
       "      <td>2</td>\n",
       "      <td>5.0</td>\n",
       "      <td>30</td>\n",
       "    </tr>\n",
       "    <tr>\n",
       "      <th>3</th>\n",
       "      <td>A</td>\n",
       "      <td>3</td>\n",
       "      <td>4.0</td>\n",
       "      <td>25</td>\n",
       "    </tr>\n",
       "    <tr>\n",
       "      <th>4</th>\n",
       "      <td>B</td>\n",
       "      <td>2</td>\n",
       "      <td>3.5</td>\n",
       "      <td>15</td>\n",
       "    </tr>\n",
       "  </tbody>\n",
       "</table>\n",
       "</div>"
      ],
      "text/plain": [
       "  course name  RatingDay  Rating  VenueCharge\n",
       "0           A          1     4.0           21\n",
       "1           B          1     4.5           26\n",
       "2           A          2     5.0           30\n",
       "3           A          3     4.0           25\n",
       "4           B          2     3.5           15"
      ]
     },
     "execution_count": 1,
     "metadata": {},
     "output_type": "execute_result"
    }
   ],
   "source": [
    "import pandas as pd\n",
    "\n",
    "test_data = {'course name': {0: 'A', 1: 'B', 2: 'A', 3: 'A', 4: 'B'},\n",
    " 'RatingDay': {0: 1, 1: 1, 2: 2, 3: 3, 4: 2},\n",
    " 'Rating': {0: 4, 1: 4.5, 2: 5, 3: 4, 4: 3.5},\n",
    " 'VenueCharge': {0: 21, 1: 26, 2: 30, 3: 25, 4: 15}}\n",
    "\n",
    "df_test = pd.DataFrame.from_dict(test_data )\n",
    "\n",
    "df_test"
   ]
  },
  {
   "cell_type": "markdown",
   "metadata": {},
   "source": [
    "> In this section we will use a file which has a lot of reviews regarding few Udemy courses. Our Basic exercise will start from here"
   ]
  },
  {
   "cell_type": "markdown",
   "metadata": {},
   "source": [
    "### <span style=\"color:blue\"> 1.2 Explore basic information </span> <a name=\"1.2\"></a>"
   ]
  },
  {
   "cell_type": "code",
   "execution_count": 2,
   "metadata": {},
   "outputs": [],
   "source": [
    "import pandas as pd\n",
    "import matplotlib\n",
    "from datetime import datetime\n",
    "import os #for automated cwd\n",
    "from pytz import utc # This is for handling timezone\n",
    "from IPython.display import display # for better display of table\n",
    "\n",
    "\n",
    "filepath = os.getcwd() + '\\Resources\\\\reviews.csv'\n",
    "\n",
    "data = pd.read_csv(filepath, parse_dates=['Timestamp'])"
   ]
  },
  {
   "cell_type": "code",
   "execution_count": 3,
   "metadata": {},
   "outputs": [
    {
     "data": {
      "text/html": [
       "<div>\n",
       "<style scoped>\n",
       "    .dataframe tbody tr th:only-of-type {\n",
       "        vertical-align: middle;\n",
       "    }\n",
       "\n",
       "    .dataframe tbody tr th {\n",
       "        vertical-align: top;\n",
       "    }\n",
       "\n",
       "    .dataframe thead th {\n",
       "        text-align: right;\n",
       "    }\n",
       "</style>\n",
       "<table border=\"1\" class=\"dataframe\">\n",
       "  <thead>\n",
       "    <tr style=\"text-align: right;\">\n",
       "      <th></th>\n",
       "      <th>Course Name</th>\n",
       "      <th>Timestamp</th>\n",
       "      <th>Rating</th>\n",
       "      <th>Comment</th>\n",
       "    </tr>\n",
       "  </thead>\n",
       "  <tbody>\n",
       "    <tr>\n",
       "      <th>0</th>\n",
       "      <td>The Python Mega Course: Build 10 Real World Ap...</td>\n",
       "      <td>2021-04-02 06:25:52+00:00</td>\n",
       "      <td>4.0</td>\n",
       "      <td>NaN</td>\n",
       "    </tr>\n",
       "    <tr>\n",
       "      <th>1</th>\n",
       "      <td>The Python Mega Course: Build 10 Real World Ap...</td>\n",
       "      <td>2021-04-02 05:12:34+00:00</td>\n",
       "      <td>4.0</td>\n",
       "      <td>NaN</td>\n",
       "    </tr>\n",
       "    <tr>\n",
       "      <th>2</th>\n",
       "      <td>The Python Mega Course: Build 10 Real World Ap...</td>\n",
       "      <td>2021-04-02 05:11:03+00:00</td>\n",
       "      <td>4.0</td>\n",
       "      <td>NaN</td>\n",
       "    </tr>\n",
       "    <tr>\n",
       "      <th>3</th>\n",
       "      <td>The Python Mega Course: Build 10 Real World Ap...</td>\n",
       "      <td>2021-04-02 03:33:24+00:00</td>\n",
       "      <td>5.0</td>\n",
       "      <td>NaN</td>\n",
       "    </tr>\n",
       "    <tr>\n",
       "      <th>4</th>\n",
       "      <td>The Python Mega Course: Build 10 Real World Ap...</td>\n",
       "      <td>2021-04-02 03:31:49+00:00</td>\n",
       "      <td>4.5</td>\n",
       "      <td>NaN</td>\n",
       "    </tr>\n",
       "  </tbody>\n",
       "</table>\n",
       "</div>"
      ],
      "text/plain": [
       "                                         Course Name  \\\n",
       "0  The Python Mega Course: Build 10 Real World Ap...   \n",
       "1  The Python Mega Course: Build 10 Real World Ap...   \n",
       "2  The Python Mega Course: Build 10 Real World Ap...   \n",
       "3  The Python Mega Course: Build 10 Real World Ap...   \n",
       "4  The Python Mega Course: Build 10 Real World Ap...   \n",
       "\n",
       "                  Timestamp  Rating Comment  \n",
       "0 2021-04-02 06:25:52+00:00     4.0     NaN  \n",
       "1 2021-04-02 05:12:34+00:00     4.0     NaN  \n",
       "2 2021-04-02 05:11:03+00:00     4.0     NaN  \n",
       "3 2021-04-02 03:33:24+00:00     5.0     NaN  \n",
       "4 2021-04-02 03:31:49+00:00     4.5     NaN  "
      ]
     },
     "execution_count": 3,
     "metadata": {},
     "output_type": "execute_result"
    }
   ],
   "source": [
    "# See the top 5 rows and structure\n",
    "data.head(5)"
   ]
  },
  {
   "cell_type": "code",
   "execution_count": 4,
   "metadata": {},
   "outputs": [
    {
     "data": {
      "text/plain": [
       "(45000, 4)"
      ]
     },
     "execution_count": 4,
     "metadata": {},
     "output_type": "execute_result"
    }
   ],
   "source": [
    "# total number of rows and column no\n",
    "data.shape"
   ]
  },
  {
   "cell_type": "code",
   "execution_count": 5,
   "metadata": {},
   "outputs": [
    {
     "data": {
      "text/plain": [
       "Index(['Course Name', 'Timestamp', 'Rating', 'Comment'], dtype='object')"
      ]
     },
     "execution_count": 5,
     "metadata": {},
     "output_type": "execute_result"
    }
   ],
   "source": [
    "# without using head you can use the folooiwng also\n",
    "data.columns"
   ]
  },
  {
   "cell_type": "code",
   "execution_count": 6,
   "metadata": {},
   "outputs": [
    {
     "data": {
      "text/plain": [
       "array([[<matplotlib.axes._subplots.AxesSubplot object at 0x000001514E9D6EF0>]],\n",
       "      dtype=object)"
      ]
     },
     "execution_count": 6,
     "metadata": {},
     "output_type": "execute_result"
    }
   ],
   "source": [
    "# Just to understand the distribution of the Rating just doing a quick histogram\n",
    "data.hist('Rating', grid =0, color = \"skyblue\", edgecolor='darkblue', lw=2 )\n",
    "\n",
    "## Basic command is data.hist('Rating')"
   ]
  },
  {
   "cell_type": "markdown",
   "metadata": {},
   "source": [
    "### <span style=\"color:blue\">1.3 Selecting data from dataframe</span> <a name=\"1.3\"></a>"
   ]
  },
  {
   "cell_type": "code",
   "execution_count": 7,
   "metadata": {},
   "outputs": [
    {
     "data": {
      "text/plain": [
       "4.442155555555556"
      ]
     },
     "execution_count": 7,
     "metadata": {},
     "output_type": "execute_result"
    }
   ],
   "source": [
    "# Get the overall mean\n",
    "data['Rating'].mean()"
   ]
  },
  {
   "cell_type": "code",
   "execution_count": 8,
   "metadata": {},
   "outputs": [
    {
     "data": {
      "text/html": [
       "<div>\n",
       "<style scoped>\n",
       "    .dataframe tbody tr th:only-of-type {\n",
       "        vertical-align: middle;\n",
       "    }\n",
       "\n",
       "    .dataframe tbody tr th {\n",
       "        vertical-align: top;\n",
       "    }\n",
       "\n",
       "    .dataframe thead th {\n",
       "        text-align: right;\n",
       "    }\n",
       "</style>\n",
       "<table border=\"1\" class=\"dataframe\">\n",
       "  <thead>\n",
       "    <tr style=\"text-align: right;\">\n",
       "      <th></th>\n",
       "      <th>Course Name</th>\n",
       "      <th>Rating</th>\n",
       "    </tr>\n",
       "  </thead>\n",
       "  <tbody>\n",
       "    <tr>\n",
       "      <th>0</th>\n",
       "      <td>The Python Mega Course: Build 10 Real World Ap...</td>\n",
       "      <td>4.0</td>\n",
       "    </tr>\n",
       "    <tr>\n",
       "      <th>1</th>\n",
       "      <td>The Python Mega Course: Build 10 Real World Ap...</td>\n",
       "      <td>4.0</td>\n",
       "    </tr>\n",
       "    <tr>\n",
       "      <th>2</th>\n",
       "      <td>The Python Mega Course: Build 10 Real World Ap...</td>\n",
       "      <td>4.0</td>\n",
       "    </tr>\n",
       "    <tr>\n",
       "      <th>3</th>\n",
       "      <td>The Python Mega Course: Build 10 Real World Ap...</td>\n",
       "      <td>5.0</td>\n",
       "    </tr>\n",
       "    <tr>\n",
       "      <th>4</th>\n",
       "      <td>The Python Mega Course: Build 10 Real World Ap...</td>\n",
       "      <td>4.5</td>\n",
       "    </tr>\n",
       "    <tr>\n",
       "      <th>5</th>\n",
       "      <td>The Python Mega Course: Build 10 Real World Ap...</td>\n",
       "      <td>4.5</td>\n",
       "    </tr>\n",
       "    <tr>\n",
       "      <th>6</th>\n",
       "      <td>The Python Mega Course: Build 10 Real World Ap...</td>\n",
       "      <td>4.5</td>\n",
       "    </tr>\n",
       "    <tr>\n",
       "      <th>7</th>\n",
       "      <td>The Python Mega Course: Build 10 Real World Ap...</td>\n",
       "      <td>5.0</td>\n",
       "    </tr>\n",
       "    <tr>\n",
       "      <th>8</th>\n",
       "      <td>The Python Mega Course: Build 10 Real World Ap...</td>\n",
       "      <td>5.0</td>\n",
       "    </tr>\n",
       "    <tr>\n",
       "      <th>9</th>\n",
       "      <td>The Python Mega Course: Build 10 Real World Ap...</td>\n",
       "      <td>5.0</td>\n",
       "    </tr>\n",
       "  </tbody>\n",
       "</table>\n",
       "</div>"
      ],
      "text/plain": [
       "                                         Course Name  Rating\n",
       "0  The Python Mega Course: Build 10 Real World Ap...     4.0\n",
       "1  The Python Mega Course: Build 10 Real World Ap...     4.0\n",
       "2  The Python Mega Course: Build 10 Real World Ap...     4.0\n",
       "3  The Python Mega Course: Build 10 Real World Ap...     5.0\n",
       "4  The Python Mega Course: Build 10 Real World Ap...     4.5\n",
       "5  The Python Mega Course: Build 10 Real World Ap...     4.5\n",
       "6  The Python Mega Course: Build 10 Real World Ap...     4.5\n",
       "7  The Python Mega Course: Build 10 Real World Ap...     5.0\n",
       "8  The Python Mega Course: Build 10 Real World Ap...     5.0\n",
       "9  The Python Mega Course: Build 10 Real World Ap...     5.0"
      ]
     },
     "execution_count": 8,
     "metadata": {},
     "output_type": "execute_result"
    }
   ],
   "source": [
    "# Get only selected column\n",
    "data [['Course Name', 'Rating']].head(10)"
   ]
  },
  {
   "cell_type": "code",
   "execution_count": 9,
   "metadata": {},
   "outputs": [
    {
     "data": {
      "text/html": [
       "<div>\n",
       "<style scoped>\n",
       "    .dataframe tbody tr th:only-of-type {\n",
       "        vertical-align: middle;\n",
       "    }\n",
       "\n",
       "    .dataframe tbody tr th {\n",
       "        vertical-align: top;\n",
       "    }\n",
       "\n",
       "    .dataframe thead th {\n",
       "        text-align: right;\n",
       "    }\n",
       "</style>\n",
       "<table border=\"1\" class=\"dataframe\">\n",
       "  <thead>\n",
       "    <tr style=\"text-align: right;\">\n",
       "      <th></th>\n",
       "      <th>Course Name</th>\n",
       "      <th>Timestamp</th>\n",
       "      <th>Rating</th>\n",
       "      <th>Comment</th>\n",
       "    </tr>\n",
       "  </thead>\n",
       "  <tbody>\n",
       "    <tr>\n",
       "      <th>3</th>\n",
       "      <td>The Python Mega Course: Build 10 Real World Ap...</td>\n",
       "      <td>2021-04-02 03:33:24+00:00</td>\n",
       "      <td>5.0</td>\n",
       "      <td>NaN</td>\n",
       "    </tr>\n",
       "    <tr>\n",
       "      <th>4</th>\n",
       "      <td>The Python Mega Course: Build 10 Real World Ap...</td>\n",
       "      <td>2021-04-02 03:31:49+00:00</td>\n",
       "      <td>4.5</td>\n",
       "      <td>NaN</td>\n",
       "    </tr>\n",
       "    <tr>\n",
       "      <th>5</th>\n",
       "      <td>The Python Mega Course: Build 10 Real World Ap...</td>\n",
       "      <td>2021-04-02 01:10:06+00:00</td>\n",
       "      <td>4.5</td>\n",
       "      <td>NaN</td>\n",
       "    </tr>\n",
       "    <tr>\n",
       "      <th>6</th>\n",
       "      <td>The Python Mega Course: Build 10 Real World Ap...</td>\n",
       "      <td>2021-04-02 00:44:54+00:00</td>\n",
       "      <td>4.5</td>\n",
       "      <td>NaN</td>\n",
       "    </tr>\n",
       "  </tbody>\n",
       "</table>\n",
       "</div>"
      ],
      "text/plain": [
       "                                         Course Name  \\\n",
       "3  The Python Mega Course: Build 10 Real World Ap...   \n",
       "4  The Python Mega Course: Build 10 Real World Ap...   \n",
       "5  The Python Mega Course: Build 10 Real World Ap...   \n",
       "6  The Python Mega Course: Build 10 Real World Ap...   \n",
       "\n",
       "                  Timestamp  Rating Comment  \n",
       "3 2021-04-02 03:33:24+00:00     5.0     NaN  \n",
       "4 2021-04-02 03:31:49+00:00     4.5     NaN  \n",
       "5 2021-04-02 01:10:06+00:00     4.5     NaN  \n",
       "6 2021-04-02 00:44:54+00:00     4.5     NaN  "
      ]
     },
     "execution_count": 9,
     "metadata": {},
     "output_type": "execute_result"
    }
   ],
   "source": [
    "# Slicing the data from row 3 to 6\n",
    "data.iloc[3:7]"
   ]
  },
  {
   "cell_type": "code",
   "execution_count": 10,
   "metadata": {},
   "outputs": [
    {
     "data": {
      "text/html": [
       "<div>\n",
       "<style scoped>\n",
       "    .dataframe tbody tr th:only-of-type {\n",
       "        vertical-align: middle;\n",
       "    }\n",
       "\n",
       "    .dataframe tbody tr th {\n",
       "        vertical-align: top;\n",
       "    }\n",
       "\n",
       "    .dataframe thead th {\n",
       "        text-align: right;\n",
       "    }\n",
       "</style>\n",
       "<table border=\"1\" class=\"dataframe\">\n",
       "  <thead>\n",
       "    <tr style=\"text-align: right;\">\n",
       "      <th></th>\n",
       "      <th>Course Name</th>\n",
       "      <th>Rating</th>\n",
       "    </tr>\n",
       "  </thead>\n",
       "  <tbody>\n",
       "    <tr>\n",
       "      <th>1</th>\n",
       "      <td>The Python Mega Course: Build 10 Real World Ap...</td>\n",
       "      <td>4.0</td>\n",
       "    </tr>\n",
       "    <tr>\n",
       "      <th>2</th>\n",
       "      <td>The Python Mega Course: Build 10 Real World Ap...</td>\n",
       "      <td>4.0</td>\n",
       "    </tr>\n",
       "  </tbody>\n",
       "</table>\n",
       "</div>"
      ],
      "text/plain": [
       "                                         Course Name  Rating\n",
       "1  The Python Mega Course: Build 10 Real World Ap...     4.0\n",
       "2  The Python Mega Course: Build 10 Real World Ap...     4.0"
      ]
     },
     "execution_count": 10,
     "metadata": {},
     "output_type": "execute_result"
    }
   ],
   "source": [
    "# slicing only selected columns and selected rows\n",
    "data [['Course Name', 'Rating']].iloc[1:3]"
   ]
  },
  {
   "cell_type": "code",
   "execution_count": 11,
   "metadata": {},
   "outputs": [
    {
     "data": {
      "text/plain": [
       "Timestamp('2021-04-02 05:11:03+0000', tz='UTC')"
      ]
     },
     "execution_count": 11,
     "metadata": {},
     "output_type": "execute_result"
    }
   ],
   "source": [
    "data['Timestamp'].iloc[2]"
   ]
  },
  {
   "cell_type": "markdown",
   "metadata": {},
   "source": [
    "### <span style=\"color:blue\">1.4 Filtering a cell based on conditions (Number and Text filter)</span> <a name=\"1.4\"></a>"
   ]
  },
  {
   "cell_type": "code",
   "execution_count": 12,
   "metadata": {},
   "outputs": [
    {
     "data": {
      "text/html": [
       "<div>\n",
       "<style scoped>\n",
       "    .dataframe tbody tr th:only-of-type {\n",
       "        vertical-align: middle;\n",
       "    }\n",
       "\n",
       "    .dataframe tbody tr th {\n",
       "        vertical-align: top;\n",
       "    }\n",
       "\n",
       "    .dataframe thead th {\n",
       "        text-align: right;\n",
       "    }\n",
       "</style>\n",
       "<table border=\"1\" class=\"dataframe\">\n",
       "  <thead>\n",
       "    <tr style=\"text-align: right;\">\n",
       "      <th></th>\n",
       "      <th>Course Name</th>\n",
       "      <th>Timestamp</th>\n",
       "      <th>Rating</th>\n",
       "      <th>Comment</th>\n",
       "    </tr>\n",
       "  </thead>\n",
       "  <tbody>\n",
       "    <tr>\n",
       "      <th>3</th>\n",
       "      <td>The Python Mega Course: Build 10 Real World Ap...</td>\n",
       "      <td>2021-04-02 03:33:24+00:00</td>\n",
       "      <td>5.0</td>\n",
       "      <td>NaN</td>\n",
       "    </tr>\n",
       "    <tr>\n",
       "      <th>7</th>\n",
       "      <td>The Python Mega Course: Build 10 Real World Ap...</td>\n",
       "      <td>2021-04-01 23:42:02+00:00</td>\n",
       "      <td>5.0</td>\n",
       "      <td>NaN</td>\n",
       "    </tr>\n",
       "    <tr>\n",
       "      <th>8</th>\n",
       "      <td>The Python Mega Course: Build 10 Real World Ap...</td>\n",
       "      <td>2021-04-01 21:58:40+00:00</td>\n",
       "      <td>5.0</td>\n",
       "      <td>NaN</td>\n",
       "    </tr>\n",
       "    <tr>\n",
       "      <th>9</th>\n",
       "      <td>The Python Mega Course: Build 10 Real World Ap...</td>\n",
       "      <td>2021-04-01 20:13:27+00:00</td>\n",
       "      <td>5.0</td>\n",
       "      <td>NaN</td>\n",
       "    </tr>\n",
       "    <tr>\n",
       "      <th>11</th>\n",
       "      <td>The Python Mega Course: Build 10 Real World Ap...</td>\n",
       "      <td>2021-04-01 15:25:18+00:00</td>\n",
       "      <td>5.0</td>\n",
       "      <td>No</td>\n",
       "    </tr>\n",
       "    <tr>\n",
       "      <th>16</th>\n",
       "      <td>The Python Mega Course: Build 10 Real World Ap...</td>\n",
       "      <td>2021-04-01 09:38:30+00:00</td>\n",
       "      <td>5.0</td>\n",
       "      <td>NaN</td>\n",
       "    </tr>\n",
       "    <tr>\n",
       "      <th>22</th>\n",
       "      <td>The Python Mega Course: Build 10 Real World Ap...</td>\n",
       "      <td>2021-04-01 05:47:51+00:00</td>\n",
       "      <td>5.0</td>\n",
       "      <td>Great course.</td>\n",
       "    </tr>\n",
       "    <tr>\n",
       "      <th>23</th>\n",
       "      <td>The Python Mega Course: Build 10 Real World Ap...</td>\n",
       "      <td>2021-04-01 05:06:31+00:00</td>\n",
       "      <td>5.0</td>\n",
       "      <td>NaN</td>\n",
       "    </tr>\n",
       "    <tr>\n",
       "      <th>25</th>\n",
       "      <td>The Python Mega Course: Build 10 Real World Ap...</td>\n",
       "      <td>2021-04-01 04:10:03+00:00</td>\n",
       "      <td>5.0</td>\n",
       "      <td>NaN</td>\n",
       "    </tr>\n",
       "    <tr>\n",
       "      <th>27</th>\n",
       "      <td>Interactive Data Visualization with Python and...</td>\n",
       "      <td>2021-04-01 03:52:44+00:00</td>\n",
       "      <td>5.0</td>\n",
       "      <td>NaN</td>\n",
       "    </tr>\n",
       "  </tbody>\n",
       "</table>\n",
       "</div>"
      ],
      "text/plain": [
       "                                          Course Name  \\\n",
       "3   The Python Mega Course: Build 10 Real World Ap...   \n",
       "7   The Python Mega Course: Build 10 Real World Ap...   \n",
       "8   The Python Mega Course: Build 10 Real World Ap...   \n",
       "9   The Python Mega Course: Build 10 Real World Ap...   \n",
       "11  The Python Mega Course: Build 10 Real World Ap...   \n",
       "16  The Python Mega Course: Build 10 Real World Ap...   \n",
       "22  The Python Mega Course: Build 10 Real World Ap...   \n",
       "23  The Python Mega Course: Build 10 Real World Ap...   \n",
       "25  The Python Mega Course: Build 10 Real World Ap...   \n",
       "27  Interactive Data Visualization with Python and...   \n",
       "\n",
       "                   Timestamp  Rating        Comment  \n",
       "3  2021-04-02 03:33:24+00:00     5.0            NaN  \n",
       "7  2021-04-01 23:42:02+00:00     5.0            NaN  \n",
       "8  2021-04-01 21:58:40+00:00     5.0            NaN  \n",
       "9  2021-04-01 20:13:27+00:00     5.0            NaN  \n",
       "11 2021-04-01 15:25:18+00:00     5.0             No  \n",
       "16 2021-04-01 09:38:30+00:00     5.0            NaN  \n",
       "22 2021-04-01 05:47:51+00:00     5.0  Great course.  \n",
       "23 2021-04-01 05:06:31+00:00     5.0            NaN  \n",
       "25 2021-04-01 04:10:03+00:00     5.0            NaN  \n",
       "27 2021-04-01 03:52:44+00:00     5.0            NaN  "
      ]
     },
     "execution_count": 12,
     "metadata": {},
     "output_type": "execute_result"
    }
   ],
   "source": [
    "# Single Condition\n",
    "data[data['Rating']>=5].head(10)"
   ]
  },
  {
   "cell_type": "code",
   "execution_count": 13,
   "metadata": {},
   "outputs": [
    {
     "data": {
      "text/html": [
       "<div>\n",
       "<style scoped>\n",
       "    .dataframe tbody tr th:only-of-type {\n",
       "        vertical-align: middle;\n",
       "    }\n",
       "\n",
       "    .dataframe tbody tr th {\n",
       "        vertical-align: top;\n",
       "    }\n",
       "\n",
       "    .dataframe thead th {\n",
       "        text-align: right;\n",
       "    }\n",
       "</style>\n",
       "<table border=\"1\" class=\"dataframe\">\n",
       "  <thead>\n",
       "    <tr style=\"text-align: right;\">\n",
       "      <th></th>\n",
       "      <th>Course Name</th>\n",
       "      <th>Timestamp</th>\n",
       "      <th>Rating</th>\n",
       "      <th>Comment</th>\n",
       "    </tr>\n",
       "  </thead>\n",
       "  <tbody>\n",
       "    <tr>\n",
       "      <th>31</th>\n",
       "      <td>The Complete Python Course: Build 10 Professio...</td>\n",
       "      <td>2021-04-01 01:32:52+00:00</td>\n",
       "      <td>5.0</td>\n",
       "      <td>NaN</td>\n",
       "    </tr>\n",
       "    <tr>\n",
       "      <th>34</th>\n",
       "      <td>The Complete Python Course: Build 10 Professio...</td>\n",
       "      <td>2021-03-31 22:53:04+00:00</td>\n",
       "      <td>5.0</td>\n",
       "      <td>NaN</td>\n",
       "    </tr>\n",
       "    <tr>\n",
       "      <th>43</th>\n",
       "      <td>The Complete Python Course: Build 10 Professio...</td>\n",
       "      <td>2021-03-31 19:15:25+00:00</td>\n",
       "      <td>5.0</td>\n",
       "      <td>NaN</td>\n",
       "    </tr>\n",
       "    <tr>\n",
       "      <th>45</th>\n",
       "      <td>The Complete Python Course: Build 10 Professio...</td>\n",
       "      <td>2021-03-31 17:23:15+00:00</td>\n",
       "      <td>5.0</td>\n",
       "      <td>NaN</td>\n",
       "    </tr>\n",
       "    <tr>\n",
       "      <th>101</th>\n",
       "      <td>The Complete Python Course: Build 10 Professio...</td>\n",
       "      <td>2021-03-29 21:54:00+00:00</td>\n",
       "      <td>4.5</td>\n",
       "      <td>NaN</td>\n",
       "    </tr>\n",
       "    <tr>\n",
       "      <th>106</th>\n",
       "      <td>The Complete Python Course: Build 10 Professio...</td>\n",
       "      <td>2021-03-29 16:07:43+00:00</td>\n",
       "      <td>5.0</td>\n",
       "      <td>NaN</td>\n",
       "    </tr>\n",
       "    <tr>\n",
       "      <th>119</th>\n",
       "      <td>The Complete Python Course: Build 10 Professio...</td>\n",
       "      <td>2021-03-29 12:33:06+00:00</td>\n",
       "      <td>4.5</td>\n",
       "      <td>NaN</td>\n",
       "    </tr>\n",
       "    <tr>\n",
       "      <th>128</th>\n",
       "      <td>The Complete Python Course: Build 10 Professio...</td>\n",
       "      <td>2021-03-28 20:07:56+00:00</td>\n",
       "      <td>5.0</td>\n",
       "      <td>NaN</td>\n",
       "    </tr>\n",
       "    <tr>\n",
       "      <th>148</th>\n",
       "      <td>The Complete Python Course: Build 10 Professio...</td>\n",
       "      <td>2021-03-28 08:55:52+00:00</td>\n",
       "      <td>5.0</td>\n",
       "      <td>NaN</td>\n",
       "    </tr>\n",
       "    <tr>\n",
       "      <th>166</th>\n",
       "      <td>The Complete Python Course: Build 10 Professio...</td>\n",
       "      <td>2021-03-27 06:30:34+00:00</td>\n",
       "      <td>5.0</td>\n",
       "      <td>NaN</td>\n",
       "    </tr>\n",
       "  </tbody>\n",
       "</table>\n",
       "</div>"
      ],
      "text/plain": [
       "                                           Course Name  \\\n",
       "31   The Complete Python Course: Build 10 Professio...   \n",
       "34   The Complete Python Course: Build 10 Professio...   \n",
       "43   The Complete Python Course: Build 10 Professio...   \n",
       "45   The Complete Python Course: Build 10 Professio...   \n",
       "101  The Complete Python Course: Build 10 Professio...   \n",
       "106  The Complete Python Course: Build 10 Professio...   \n",
       "119  The Complete Python Course: Build 10 Professio...   \n",
       "128  The Complete Python Course: Build 10 Professio...   \n",
       "148  The Complete Python Course: Build 10 Professio...   \n",
       "166  The Complete Python Course: Build 10 Professio...   \n",
       "\n",
       "                    Timestamp  Rating Comment  \n",
       "31  2021-04-01 01:32:52+00:00     5.0     NaN  \n",
       "34  2021-03-31 22:53:04+00:00     5.0     NaN  \n",
       "43  2021-03-31 19:15:25+00:00     5.0     NaN  \n",
       "45  2021-03-31 17:23:15+00:00     5.0     NaN  \n",
       "101 2021-03-29 21:54:00+00:00     4.5     NaN  \n",
       "106 2021-03-29 16:07:43+00:00     5.0     NaN  \n",
       "119 2021-03-29 12:33:06+00:00     4.5     NaN  \n",
       "128 2021-03-28 20:07:56+00:00     5.0     NaN  \n",
       "148 2021-03-28 08:55:52+00:00     5.0     NaN  \n",
       "166 2021-03-27 06:30:34+00:00     5.0     NaN  "
      ]
     },
     "execution_count": 13,
     "metadata": {},
     "output_type": "execute_result"
    }
   ],
   "source": [
    "# Multiple Condition\n",
    "data[(data['Rating']>4) & (data['Course Name'] == 'The Complete Python Course: Build 10 Professional OOP Apps')].head(10)"
   ]
  },
  {
   "cell_type": "code",
   "execution_count": 14,
   "metadata": {},
   "outputs": [
    {
     "data": {
      "text/plain": [
       "4.908831908831909"
      ]
     },
     "execution_count": 14,
     "metadata": {},
     "output_type": "execute_result"
    }
   ],
   "source": [
    "# Get the mean value of this course\n",
    "data[(data['Rating']>4) & (data['Course Name'] == 'The Complete Python Course: Build 10 Professional OOP Apps')]['Rating'].mean()"
   ]
  },
  {
   "cell_type": "markdown",
   "metadata": {},
   "source": [
    "### <span style=\"color:blue\">1.5 Filtering a cell based on conditions (DateTime Filer)</span> <a name=\"1.5\"></a>"
   ]
  },
  {
   "cell_type": "code",
   "execution_count": 15,
   "metadata": {},
   "outputs": [],
   "source": [
    "from datetime import datetime\n",
    "from pytz import utc # This is for handling timezone"
   ]
  },
  {
   "cell_type": "code",
   "execution_count": 16,
   "metadata": {},
   "outputs": [
    {
     "data": {
      "text/html": [
       "<div>\n",
       "<style scoped>\n",
       "    .dataframe tbody tr th:only-of-type {\n",
       "        vertical-align: middle;\n",
       "    }\n",
       "\n",
       "    .dataframe tbody tr th {\n",
       "        vertical-align: top;\n",
       "    }\n",
       "\n",
       "    .dataframe thead th {\n",
       "        text-align: right;\n",
       "    }\n",
       "</style>\n",
       "<table border=\"1\" class=\"dataframe\">\n",
       "  <thead>\n",
       "    <tr style=\"text-align: right;\">\n",
       "      <th></th>\n",
       "      <th>Course Name</th>\n",
       "      <th>Timestamp</th>\n",
       "      <th>Rating</th>\n",
       "      <th>Comment</th>\n",
       "    </tr>\n",
       "  </thead>\n",
       "  <tbody>\n",
       "    <tr>\n",
       "      <th>3065</th>\n",
       "      <td>Interactive Data Visualization with Python and...</td>\n",
       "      <td>2020-12-30 23:28:34+00:00</td>\n",
       "      <td>3.0</td>\n",
       "      <td>NaN</td>\n",
       "    </tr>\n",
       "    <tr>\n",
       "      <th>3066</th>\n",
       "      <td>The Python Mega Course: Build 10 Real World Ap...</td>\n",
       "      <td>2020-12-30 22:59:02+00:00</td>\n",
       "      <td>4.0</td>\n",
       "      <td>NaN</td>\n",
       "    </tr>\n",
       "    <tr>\n",
       "      <th>3067</th>\n",
       "      <td>The Python Mega Course: Build 10 Real World Ap...</td>\n",
       "      <td>2020-12-30 22:40:10+00:00</td>\n",
       "      <td>4.5</td>\n",
       "      <td>NaN</td>\n",
       "    </tr>\n",
       "    <tr>\n",
       "      <th>3068</th>\n",
       "      <td>The Python Mega Course: Build 10 Real World Ap...</td>\n",
       "      <td>2020-12-30 21:56:41+00:00</td>\n",
       "      <td>4.5</td>\n",
       "      <td>NaN</td>\n",
       "    </tr>\n",
       "    <tr>\n",
       "      <th>3069</th>\n",
       "      <td>The Python Mega Course: Build 10 Real World Ap...</td>\n",
       "      <td>2020-12-30 21:14:34+00:00</td>\n",
       "      <td>4.5</td>\n",
       "      <td>NaN</td>\n",
       "    </tr>\n",
       "    <tr>\n",
       "      <th>3070</th>\n",
       "      <td>The Python Mega Course: Build 10 Real World Ap...</td>\n",
       "      <td>2020-12-30 21:09:16+00:00</td>\n",
       "      <td>5.0</td>\n",
       "      <td>NaN</td>\n",
       "    </tr>\n",
       "    <tr>\n",
       "      <th>3071</th>\n",
       "      <td>The Python Mega Course: Build 10 Real World Ap...</td>\n",
       "      <td>2020-12-30 20:58:29+00:00</td>\n",
       "      <td>5.0</td>\n",
       "      <td>NaN</td>\n",
       "    </tr>\n",
       "    <tr>\n",
       "      <th>3072</th>\n",
       "      <td>The Python Mega Course: Build 10 Real World Ap...</td>\n",
       "      <td>2020-12-30 20:09:33+00:00</td>\n",
       "      <td>5.0</td>\n",
       "      <td>NaN</td>\n",
       "    </tr>\n",
       "    <tr>\n",
       "      <th>3073</th>\n",
       "      <td>Python for Beginners with Examples</td>\n",
       "      <td>2020-12-30 19:30:23+00:00</td>\n",
       "      <td>5.0</td>\n",
       "      <td>NaN</td>\n",
       "    </tr>\n",
       "    <tr>\n",
       "      <th>3074</th>\n",
       "      <td>Data Processing with Python</td>\n",
       "      <td>2020-12-30 19:02:30+00:00</td>\n",
       "      <td>4.0</td>\n",
       "      <td>NaN</td>\n",
       "    </tr>\n",
       "  </tbody>\n",
       "</table>\n",
       "</div>"
      ],
      "text/plain": [
       "                                            Course Name  \\\n",
       "3065  Interactive Data Visualization with Python and...   \n",
       "3066  The Python Mega Course: Build 10 Real World Ap...   \n",
       "3067  The Python Mega Course: Build 10 Real World Ap...   \n",
       "3068  The Python Mega Course: Build 10 Real World Ap...   \n",
       "3069  The Python Mega Course: Build 10 Real World Ap...   \n",
       "3070  The Python Mega Course: Build 10 Real World Ap...   \n",
       "3071  The Python Mega Course: Build 10 Real World Ap...   \n",
       "3072  The Python Mega Course: Build 10 Real World Ap...   \n",
       "3073                 Python for Beginners with Examples   \n",
       "3074                        Data Processing with Python   \n",
       "\n",
       "                     Timestamp  Rating Comment  \n",
       "3065 2020-12-30 23:28:34+00:00     3.0     NaN  \n",
       "3066 2020-12-30 22:59:02+00:00     4.0     NaN  \n",
       "3067 2020-12-30 22:40:10+00:00     4.5     NaN  \n",
       "3068 2020-12-30 21:56:41+00:00     4.5     NaN  \n",
       "3069 2020-12-30 21:14:34+00:00     4.5     NaN  \n",
       "3070 2020-12-30 21:09:16+00:00     5.0     NaN  \n",
       "3071 2020-12-30 20:58:29+00:00     5.0     NaN  \n",
       "3072 2020-12-30 20:09:33+00:00     5.0     NaN  \n",
       "3073 2020-12-30 19:30:23+00:00     5.0     NaN  \n",
       "3074 2020-12-30 19:02:30+00:00     4.0     NaN  "
      ]
     },
     "execution_count": 16,
     "metadata": {},
     "output_type": "execute_result"
    }
   ],
   "source": [
    "## To run it without erro you have to use parse_dates=['Timestamp'] in the read csv\n",
    "\n",
    "data[(data['Timestamp'] >= datetime(2020,7,1, tzinfo=utc)) \n",
    "     & (data['Timestamp'] <= datetime(2020,12,31, tzinfo=utc))].head(10)"
   ]
  },
  {
   "cell_type": "markdown",
   "metadata": {},
   "source": [
    "### <span style=\"color:blue\">1.6 Create Month Column from existing Datetime/Timestamp </span> <a name=\"1.6\"></a>"
   ]
  },
  {
   "cell_type": "code",
   "execution_count": 17,
   "metadata": {},
   "outputs": [
    {
     "data": {
      "text/html": [
       "<div>\n",
       "<style scoped>\n",
       "    .dataframe tbody tr th:only-of-type {\n",
       "        vertical-align: middle;\n",
       "    }\n",
       "\n",
       "    .dataframe tbody tr th {\n",
       "        vertical-align: top;\n",
       "    }\n",
       "\n",
       "    .dataframe thead th {\n",
       "        text-align: right;\n",
       "    }\n",
       "</style>\n",
       "<table border=\"1\" class=\"dataframe\">\n",
       "  <thead>\n",
       "    <tr style=\"text-align: right;\">\n",
       "      <th></th>\n",
       "      <th>Course Name</th>\n",
       "      <th>Timestamp</th>\n",
       "      <th>Rating</th>\n",
       "      <th>Comment</th>\n",
       "      <th>Report Month</th>\n",
       "    </tr>\n",
       "  </thead>\n",
       "  <tbody>\n",
       "    <tr>\n",
       "      <th>0</th>\n",
       "      <td>The Python Mega Course: Build 10 Real World Ap...</td>\n",
       "      <td>2021-04-02 06:25:52+00:00</td>\n",
       "      <td>4.0</td>\n",
       "      <td>NaN</td>\n",
       "      <td>2021-04-02</td>\n",
       "    </tr>\n",
       "    <tr>\n",
       "      <th>1</th>\n",
       "      <td>The Python Mega Course: Build 10 Real World Ap...</td>\n",
       "      <td>2021-04-02 05:12:34+00:00</td>\n",
       "      <td>4.0</td>\n",
       "      <td>NaN</td>\n",
       "      <td>2021-04-02</td>\n",
       "    </tr>\n",
       "    <tr>\n",
       "      <th>2</th>\n",
       "      <td>The Python Mega Course: Build 10 Real World Ap...</td>\n",
       "      <td>2021-04-02 05:11:03+00:00</td>\n",
       "      <td>4.0</td>\n",
       "      <td>NaN</td>\n",
       "      <td>2021-04-02</td>\n",
       "    </tr>\n",
       "    <tr>\n",
       "      <th>3</th>\n",
       "      <td>The Python Mega Course: Build 10 Real World Ap...</td>\n",
       "      <td>2021-04-02 03:33:24+00:00</td>\n",
       "      <td>5.0</td>\n",
       "      <td>NaN</td>\n",
       "      <td>2021-04-02</td>\n",
       "    </tr>\n",
       "    <tr>\n",
       "      <th>4</th>\n",
       "      <td>The Python Mega Course: Build 10 Real World Ap...</td>\n",
       "      <td>2021-04-02 03:31:49+00:00</td>\n",
       "      <td>4.5</td>\n",
       "      <td>NaN</td>\n",
       "      <td>2021-04-02</td>\n",
       "    </tr>\n",
       "  </tbody>\n",
       "</table>\n",
       "</div>"
      ],
      "text/plain": [
       "                                         Course Name  \\\n",
       "0  The Python Mega Course: Build 10 Real World Ap...   \n",
       "1  The Python Mega Course: Build 10 Real World Ap...   \n",
       "2  The Python Mega Course: Build 10 Real World Ap...   \n",
       "3  The Python Mega Course: Build 10 Real World Ap...   \n",
       "4  The Python Mega Course: Build 10 Real World Ap...   \n",
       "\n",
       "                  Timestamp  Rating Comment Report Month  \n",
       "0 2021-04-02 06:25:52+00:00     4.0     NaN   2021-04-02  \n",
       "1 2021-04-02 05:12:34+00:00     4.0     NaN   2021-04-02  \n",
       "2 2021-04-02 05:11:03+00:00     4.0     NaN   2021-04-02  \n",
       "3 2021-04-02 03:33:24+00:00     5.0     NaN   2021-04-02  \n",
       "4 2021-04-02 03:31:49+00:00     4.5     NaN   2021-04-02  "
      ]
     },
     "execution_count": 17,
     "metadata": {},
     "output_type": "execute_result"
    }
   ],
   "source": [
    "\n",
    "data['Report Month'] = data['Timestamp'].dt.date\n",
    "\n",
    "data.head(5)"
   ]
  },
  {
   "cell_type": "markdown",
   "metadata": {},
   "source": [
    "# 2. Turning Data into Information <a name=\"2\"></a>"
   ]
  },
  {
   "cell_type": "markdown",
   "metadata": {},
   "source": [
    "###   <span style=\"color:blue\"> 2.1 Simple Infomation Extract </span><a name=\"2.1\"></a>"
   ]
  },
  {
   "cell_type": "markdown",
   "metadata": {},
   "source": [
    "#### Avg Rating"
   ]
  },
  {
   "cell_type": "code",
   "execution_count": 18,
   "metadata": {},
   "outputs": [
    {
     "name": "stdout",
     "output_type": "stream",
     "text": [
      "Avg Rating for all courses:  4.442155555555556\n"
     ]
    }
   ],
   "source": [
    "print('Avg Rating for all courses: ', data['Rating'].mean())"
   ]
  },
  {
   "cell_type": "markdown",
   "metadata": {},
   "source": [
    "#### Avg Rating for a particular course"
   ]
  },
  {
   "cell_type": "code",
   "execution_count": 19,
   "metadata": {},
   "outputs": [
    {
     "data": {
      "text/plain": [
       "4.477270180942244"
      ]
     },
     "execution_count": 19,
     "metadata": {},
     "output_type": "execute_result"
    }
   ],
   "source": [
    "data[data['Course Name'] == 'The Python Mega Course: Build 10 Real World Applications']['Rating'].mean()"
   ]
  },
  {
   "cell_type": "markdown",
   "metadata": {},
   "source": [
    "#### Avg rating for a particular period"
   ]
  },
  {
   "cell_type": "code",
   "execution_count": 20,
   "metadata": {},
   "outputs": [
    {
     "data": {
      "text/plain": [
       "4.476541271662339"
      ]
     },
     "execution_count": 20,
     "metadata": {},
     "output_type": "execute_result"
    }
   ],
   "source": [
    "data[ (data['Timestamp'] >= datetime(2020,1,1, tzinfo=utc)) \n",
    "     & (data['Timestamp'] <= datetime(2020,12,31, tzinfo=utc))]['Rating'].mean()"
   ]
  },
  {
   "cell_type": "markdown",
   "metadata": {},
   "source": [
    "#### Avg rating for a particular period for a particular course"
   ]
  },
  {
   "cell_type": "code",
   "execution_count": 21,
   "metadata": {},
   "outputs": [
    {
     "data": {
      "text/plain": [
       "4.506076089208037"
      ]
     },
     "execution_count": 21,
     "metadata": {},
     "output_type": "execute_result"
    }
   ],
   "source": [
    "data[ (data['Timestamp'] >= datetime(2020,1,1, tzinfo=utc)) \n",
    "     & (data['Timestamp'] <= datetime(2020,12,31, tzinfo=utc)) \n",
    "     & (data['Course Name'] == 'The Python Mega Course: Build 10 Real World Applications')]['Rating'].mean()"
   ]
  },
  {
   "cell_type": "markdown",
   "metadata": {},
   "source": [
    "#### Avg of commented vs uncommented ratings"
   ]
  },
  {
   "cell_type": "code",
   "execution_count": 22,
   "metadata": {},
   "outputs": [
    {
     "name": "stdout",
     "output_type": "stream",
     "text": [
      " Avg Commented Rating : 4.433679746603492 \n",
      " Avg Uncommented Rating : 4.489777908515959\n"
     ]
    }
   ],
   "source": [
    "comm_rating = data[data['Comment'].isnull()]['Rating'].mean()\n",
    "uncomm_rating = data[data['Comment'].notnull()]['Rating'].mean()\n",
    "\n",
    "print(' Avg Commented Rating :', comm_rating, '\\n', 'Avg Uncommented Rating :', uncomm_rating)"
   ]
  },
  {
   "cell_type": "markdown",
   "metadata": {},
   "source": [
    "#### Number of Commented Ratings and Number of uncommented Ratings"
   ]
  },
  {
   "cell_type": "code",
   "execution_count": 23,
   "metadata": {},
   "outputs": [
    {
     "name": "stdout",
     "output_type": "stream",
     "text": [
      " Count Commented Rating : 38201 \n",
      " Count Uncommented Rating : 6799\n"
     ]
    }
   ],
   "source": [
    "comm_rating = data[data['Comment'].isnull()]['Rating'].count()\n",
    "uncomm_rating = data[data['Comment'].notnull()]['Rating'].count()\n",
    "\n",
    "print(' Count Commented Rating :', comm_rating, '\\n', 'Count Uncommented Rating :', uncomm_rating)"
   ]
  },
  {
   "cell_type": "markdown",
   "metadata": {},
   "source": [
    "#### Number of comments containing a certain word and their average rating"
   ]
  },
  {
   "cell_type": "code",
   "execution_count": 24,
   "metadata": {},
   "outputs": [
    {
     "name": "stdout",
     "output_type": "stream",
     "text": [
      " No of comment that has accent in the conent 77 \n",
      " Avg rating of such comments : 3.8636363636363638\n"
     ]
    }
   ],
   "source": [
    "Total_count = data[data['Comment'].str.contains('accent', na= False)]['Rating'].count()\n",
    "Avg = data[data['Comment'].str.contains('accent', na= False)]['Rating'].mean()\n",
    "\n",
    "print(' No of comment that has accent in the conent', Total_count, '\\n', 'Avg rating of such comments :', Avg)"
   ]
  },
  {
   "cell_type": "markdown",
   "metadata": {},
   "source": [
    "###   <span style=\"color:blue\"> 2.2 Joining multiple dataframe with a key</span><a name=\"2.2\"></a>\n",
    "\n",
    "> Good Link to learn more about merge, join could be found here [Pandas Dataframe Joining][an_awesome_website_link] is awesome.\n",
    "\n",
    "[an_awesome_website_link]: https://www.datacamp.com/community/tutorials/joining-dataframes-pandas?"
   ]
  },
  {
   "cell_type": "code",
   "execution_count": 25,
   "metadata": {},
   "outputs": [
    {
     "data": {
      "text/html": [
       "<style  type=\"text/css\" >\n",
       "</style><table id=\"T_59d1b09a_c068_11eb_a77a_2816a84c4ede\" ><thead>    <tr>        <th class=\"blank level0\" ></th>        <th class=\"col_heading level0 col0\" >Course Name</th>        <th class=\"col_heading level0 col1\" >Total Count</th>    </tr></thead><tbody>\n",
       "                <tr>\n",
       "                        <th id=\"T_59d1b09a_c068_11eb_a77a_2816a84c4edelevel0_row0\" class=\"row_heading level0 row0\" >0</th>\n",
       "                        <td id=\"T_59d1b09a_c068_11eb_a77a_2816a84c4ederow0_col0\" class=\"data row0 col0\" >100 Python Exercises I: Evaluate and Improve Your Skills</td>\n",
       "                        <td id=\"T_59d1b09a_c068_11eb_a77a_2816a84c4ederow0_col1\" class=\"data row0 col1\" >1593</td>\n",
       "            </tr>\n",
       "            <tr>\n",
       "                        <th id=\"T_59d1b09a_c068_11eb_a77a_2816a84c4edelevel0_row1\" class=\"row_heading level0 row1\" >1</th>\n",
       "                        <td id=\"T_59d1b09a_c068_11eb_a77a_2816a84c4ederow1_col0\" class=\"data row1 col0\" >100 Python Exercises II: Evaluate and Improve Your Skills</td>\n",
       "                        <td id=\"T_59d1b09a_c068_11eb_a77a_2816a84c4ederow1_col1\" class=\"data row1 col1\" >280</td>\n",
       "            </tr>\n",
       "            <tr>\n",
       "                        <th id=\"T_59d1b09a_c068_11eb_a77a_2816a84c4edelevel0_row2\" class=\"row_heading level0 row2\" >2</th>\n",
       "                        <td id=\"T_59d1b09a_c068_11eb_a77a_2816a84c4ederow2_col0\" class=\"data row2 col0\" >Data Processing with Python</td>\n",
       "                        <td id=\"T_59d1b09a_c068_11eb_a77a_2816a84c4ederow2_col1\" class=\"data row2 col1\" >868</td>\n",
       "            </tr>\n",
       "            <tr>\n",
       "                        <th id=\"T_59d1b09a_c068_11eb_a77a_2816a84c4edelevel0_row3\" class=\"row_heading level0 row3\" >3</th>\n",
       "                        <td id=\"T_59d1b09a_c068_11eb_a77a_2816a84c4ederow3_col0\" class=\"data row3 col0\" >Interactive Data Visualization with Python and Bokeh</td>\n",
       "                        <td id=\"T_59d1b09a_c068_11eb_a77a_2816a84c4ederow3_col1\" class=\"data row3 col1\" >767</td>\n",
       "            </tr>\n",
       "            <tr>\n",
       "                        <th id=\"T_59d1b09a_c068_11eb_a77a_2816a84c4edelevel0_row4\" class=\"row_heading level0 row4\" >4</th>\n",
       "                        <td id=\"T_59d1b09a_c068_11eb_a77a_2816a84c4ederow4_col0\" class=\"data row4 col0\" >Learn GIS in One Hour</td>\n",
       "                        <td id=\"T_59d1b09a_c068_11eb_a77a_2816a84c4ederow4_col1\" class=\"data row4 col1\" >499</td>\n",
       "            </tr>\n",
       "            <tr>\n",
       "                        <th id=\"T_59d1b09a_c068_11eb_a77a_2816a84c4edelevel0_row5\" class=\"row_heading level0 row5\" >5</th>\n",
       "                        <td id=\"T_59d1b09a_c068_11eb_a77a_2816a84c4ederow5_col0\" class=\"data row5 col0\" >Python for Beginners with Examples</td>\n",
       "                        <td id=\"T_59d1b09a_c068_11eb_a77a_2816a84c4ederow5_col1\" class=\"data row5 col1\" >4821</td>\n",
       "            </tr>\n",
       "            <tr>\n",
       "                        <th id=\"T_59d1b09a_c068_11eb_a77a_2816a84c4edelevel0_row6\" class=\"row_heading level0 row6\" >6</th>\n",
       "                        <td id=\"T_59d1b09a_c068_11eb_a77a_2816a84c4ederow6_col0\" class=\"data row6 col0\" >The Complete Python Course: Build 10 Professional OOP Apps</td>\n",
       "                        <td id=\"T_59d1b09a_c068_11eb_a77a_2816a84c4ederow6_col1\" class=\"data row6 col1\" >470</td>\n",
       "            </tr>\n",
       "            <tr>\n",
       "                        <th id=\"T_59d1b09a_c068_11eb_a77a_2816a84c4edelevel0_row7\" class=\"row_heading level0 row7\" >7</th>\n",
       "                        <td id=\"T_59d1b09a_c068_11eb_a77a_2816a84c4ederow7_col0\" class=\"data row7 col0\" >The Python Mega Course: Build 10 Real World Applications</td>\n",
       "                        <td id=\"T_59d1b09a_c068_11eb_a77a_2816a84c4ederow7_col1\" class=\"data row7 col1\" >35702</td>\n",
       "            </tr>\n",
       "    </tbody></table>"
      ],
      "text/plain": [
       "<pandas.io.formats.style.Styler at 0x1515219ca20>"
      ]
     },
     "execution_count": 25,
     "metadata": {},
     "output_type": "execute_result"
    }
   ],
   "source": [
    "# Total No of Ratings per course\n",
    "\n",
    "Count_by_course = data.groupby(['Course Name'])['Rating'].count().reset_index(name='Total Count')\n",
    "#print(Count_by_course)\n",
    "Count_by_course.style"
   ]
  },
  {
   "cell_type": "code",
   "execution_count": 26,
   "metadata": {},
   "outputs": [
    {
     "data": {
      "text/html": [
       "<style  type=\"text/css\" >\n",
       "</style><table id=\"T_59d7a338_c068_11eb_ac98_2816a84c4ede\" ><thead>    <tr>        <th class=\"blank level0\" ></th>        <th class=\"col_heading level0 col0\" >Course Name</th>        <th class=\"col_heading level0 col1\" >AVG Rating</th>    </tr></thead><tbody>\n",
       "                <tr>\n",
       "                        <th id=\"T_59d7a338_c068_11eb_ac98_2816a84c4edelevel0_row0\" class=\"row_heading level0 row0\" >0</th>\n",
       "                        <td id=\"T_59d7a338_c068_11eb_ac98_2816a84c4ederow0_col0\" class=\"data row0 col0\" >100 Python Exercises I: Evaluate and Improve Your Skills</td>\n",
       "                        <td id=\"T_59d7a338_c068_11eb_ac98_2816a84c4ederow0_col1\" class=\"data row0 col1\" >4.3236</td>\n",
       "            </tr>\n",
       "            <tr>\n",
       "                        <th id=\"T_59d7a338_c068_11eb_ac98_2816a84c4edelevel0_row1\" class=\"row_heading level0 row1\" >1</th>\n",
       "                        <td id=\"T_59d7a338_c068_11eb_ac98_2816a84c4ederow1_col0\" class=\"data row1 col0\" >100 Python Exercises II: Evaluate and Improve Your Skills</td>\n",
       "                        <td id=\"T_59d7a338_c068_11eb_ac98_2816a84c4ederow1_col1\" class=\"data row1 col1\" >4.51964</td>\n",
       "            </tr>\n",
       "            <tr>\n",
       "                        <th id=\"T_59d7a338_c068_11eb_ac98_2816a84c4edelevel0_row2\" class=\"row_heading level0 row2\" >2</th>\n",
       "                        <td id=\"T_59d7a338_c068_11eb_ac98_2816a84c4ederow2_col0\" class=\"data row2 col0\" >Data Processing with Python</td>\n",
       "                        <td id=\"T_59d7a338_c068_11eb_ac98_2816a84c4ederow2_col1\" class=\"data row2 col1\" >4.23733</td>\n",
       "            </tr>\n",
       "            <tr>\n",
       "                        <th id=\"T_59d7a338_c068_11eb_ac98_2816a84c4edelevel0_row3\" class=\"row_heading level0 row3\" >3</th>\n",
       "                        <td id=\"T_59d7a338_c068_11eb_ac98_2816a84c4ederow3_col0\" class=\"data row3 col0\" >Interactive Data Visualization with Python and Bokeh</td>\n",
       "                        <td id=\"T_59d7a338_c068_11eb_ac98_2816a84c4ederow3_col1\" class=\"data row3 col1\" >4.2751</td>\n",
       "            </tr>\n",
       "            <tr>\n",
       "                        <th id=\"T_59d7a338_c068_11eb_ac98_2816a84c4edelevel0_row4\" class=\"row_heading level0 row4\" >4</th>\n",
       "                        <td id=\"T_59d7a338_c068_11eb_ac98_2816a84c4ederow4_col0\" class=\"data row4 col0\" >Learn GIS in One Hour</td>\n",
       "                        <td id=\"T_59d7a338_c068_11eb_ac98_2816a84c4ederow4_col1\" class=\"data row4 col1\" >4.07114</td>\n",
       "            </tr>\n",
       "            <tr>\n",
       "                        <th id=\"T_59d7a338_c068_11eb_ac98_2816a84c4edelevel0_row5\" class=\"row_heading level0 row5\" >5</th>\n",
       "                        <td id=\"T_59d7a338_c068_11eb_ac98_2816a84c4ederow5_col0\" class=\"data row5 col0\" >Python for Beginners with Examples</td>\n",
       "                        <td id=\"T_59d7a338_c068_11eb_ac98_2816a84c4ederow5_col1\" class=\"data row5 col1\" >4.30097</td>\n",
       "            </tr>\n",
       "            <tr>\n",
       "                        <th id=\"T_59d7a338_c068_11eb_ac98_2816a84c4edelevel0_row6\" class=\"row_heading level0 row6\" >6</th>\n",
       "                        <td id=\"T_59d7a338_c068_11eb_ac98_2816a84c4ederow6_col0\" class=\"data row6 col0\" >The Complete Python Course: Build 10 Professional OOP Apps</td>\n",
       "                        <td id=\"T_59d7a338_c068_11eb_ac98_2816a84c4ederow6_col1\" class=\"data row6 col1\" >4.6234</td>\n",
       "            </tr>\n",
       "            <tr>\n",
       "                        <th id=\"T_59d7a338_c068_11eb_ac98_2816a84c4edelevel0_row7\" class=\"row_heading level0 row7\" >7</th>\n",
       "                        <td id=\"T_59d7a338_c068_11eb_ac98_2816a84c4ederow7_col0\" class=\"data row7 col0\" >The Python Mega Course: Build 10 Real World Applications</td>\n",
       "                        <td id=\"T_59d7a338_c068_11eb_ac98_2816a84c4ederow7_col1\" class=\"data row7 col1\" >4.47727</td>\n",
       "            </tr>\n",
       "    </tbody></table>"
      ],
      "text/plain": [
       "<pandas.io.formats.style.Styler at 0x151521ca400>"
      ]
     },
     "execution_count": 26,
     "metadata": {},
     "output_type": "execute_result"
    }
   ],
   "source": [
    "# Avg Rating per course \n",
    "\n",
    "Rating_by_course = data.groupby(['Course Name'])['Rating'].mean().reset_index(name='AVG Rating')\n",
    "#print(Rating_by_course)\n",
    "Rating_by_course.style"
   ]
  },
  {
   "cell_type": "code",
   "execution_count": 27,
   "metadata": {},
   "outputs": [
    {
     "data": {
      "text/plain": [
       "Index(['Course Name', 'AVG Rating'], dtype='object')"
      ]
     },
     "execution_count": 27,
     "metadata": {},
     "output_type": "execute_result"
    }
   ],
   "source": [
    "Rating_by_course.columns"
   ]
  },
  {
   "cell_type": "code",
   "execution_count": 28,
   "metadata": {},
   "outputs": [
    {
     "data": {
      "text/html": [
       "<style  type=\"text/css\" >\n",
       "</style><table id=\"T_59de0b58_c068_11eb_8b2e_2816a84c4ede\" ><thead>    <tr>        <th class=\"blank level0\" ></th>        <th class=\"col_heading level0 col0\" >Course Name</th>        <th class=\"col_heading level0 col1\" >AVG Rating</th>        <th class=\"col_heading level0 col2\" >Total Count</th>    </tr></thead><tbody>\n",
       "                <tr>\n",
       "                        <th id=\"T_59de0b58_c068_11eb_8b2e_2816a84c4edelevel0_row0\" class=\"row_heading level0 row0\" >0</th>\n",
       "                        <td id=\"T_59de0b58_c068_11eb_8b2e_2816a84c4ederow0_col0\" class=\"data row0 col0\" >100 Python Exercises I: Evaluate and Improve Your Skills</td>\n",
       "                        <td id=\"T_59de0b58_c068_11eb_8b2e_2816a84c4ederow0_col1\" class=\"data row0 col1\" >4.3236</td>\n",
       "                        <td id=\"T_59de0b58_c068_11eb_8b2e_2816a84c4ederow0_col2\" class=\"data row0 col2\" >1593</td>\n",
       "            </tr>\n",
       "            <tr>\n",
       "                        <th id=\"T_59de0b58_c068_11eb_8b2e_2816a84c4edelevel0_row1\" class=\"row_heading level0 row1\" >1</th>\n",
       "                        <td id=\"T_59de0b58_c068_11eb_8b2e_2816a84c4ederow1_col0\" class=\"data row1 col0\" >100 Python Exercises II: Evaluate and Improve Your Skills</td>\n",
       "                        <td id=\"T_59de0b58_c068_11eb_8b2e_2816a84c4ederow1_col1\" class=\"data row1 col1\" >4.51964</td>\n",
       "                        <td id=\"T_59de0b58_c068_11eb_8b2e_2816a84c4ederow1_col2\" class=\"data row1 col2\" >280</td>\n",
       "            </tr>\n",
       "            <tr>\n",
       "                        <th id=\"T_59de0b58_c068_11eb_8b2e_2816a84c4edelevel0_row2\" class=\"row_heading level0 row2\" >2</th>\n",
       "                        <td id=\"T_59de0b58_c068_11eb_8b2e_2816a84c4ederow2_col0\" class=\"data row2 col0\" >Data Processing with Python</td>\n",
       "                        <td id=\"T_59de0b58_c068_11eb_8b2e_2816a84c4ederow2_col1\" class=\"data row2 col1\" >4.23733</td>\n",
       "                        <td id=\"T_59de0b58_c068_11eb_8b2e_2816a84c4ederow2_col2\" class=\"data row2 col2\" >868</td>\n",
       "            </tr>\n",
       "            <tr>\n",
       "                        <th id=\"T_59de0b58_c068_11eb_8b2e_2816a84c4edelevel0_row3\" class=\"row_heading level0 row3\" >3</th>\n",
       "                        <td id=\"T_59de0b58_c068_11eb_8b2e_2816a84c4ederow3_col0\" class=\"data row3 col0\" >Interactive Data Visualization with Python and Bokeh</td>\n",
       "                        <td id=\"T_59de0b58_c068_11eb_8b2e_2816a84c4ederow3_col1\" class=\"data row3 col1\" >4.2751</td>\n",
       "                        <td id=\"T_59de0b58_c068_11eb_8b2e_2816a84c4ederow3_col2\" class=\"data row3 col2\" >767</td>\n",
       "            </tr>\n",
       "            <tr>\n",
       "                        <th id=\"T_59de0b58_c068_11eb_8b2e_2816a84c4edelevel0_row4\" class=\"row_heading level0 row4\" >4</th>\n",
       "                        <td id=\"T_59de0b58_c068_11eb_8b2e_2816a84c4ederow4_col0\" class=\"data row4 col0\" >Learn GIS in One Hour</td>\n",
       "                        <td id=\"T_59de0b58_c068_11eb_8b2e_2816a84c4ederow4_col1\" class=\"data row4 col1\" >4.07114</td>\n",
       "                        <td id=\"T_59de0b58_c068_11eb_8b2e_2816a84c4ederow4_col2\" class=\"data row4 col2\" >499</td>\n",
       "            </tr>\n",
       "            <tr>\n",
       "                        <th id=\"T_59de0b58_c068_11eb_8b2e_2816a84c4edelevel0_row5\" class=\"row_heading level0 row5\" >5</th>\n",
       "                        <td id=\"T_59de0b58_c068_11eb_8b2e_2816a84c4ederow5_col0\" class=\"data row5 col0\" >Python for Beginners with Examples</td>\n",
       "                        <td id=\"T_59de0b58_c068_11eb_8b2e_2816a84c4ederow5_col1\" class=\"data row5 col1\" >4.30097</td>\n",
       "                        <td id=\"T_59de0b58_c068_11eb_8b2e_2816a84c4ederow5_col2\" class=\"data row5 col2\" >4821</td>\n",
       "            </tr>\n",
       "            <tr>\n",
       "                        <th id=\"T_59de0b58_c068_11eb_8b2e_2816a84c4edelevel0_row6\" class=\"row_heading level0 row6\" >6</th>\n",
       "                        <td id=\"T_59de0b58_c068_11eb_8b2e_2816a84c4ederow6_col0\" class=\"data row6 col0\" >The Complete Python Course: Build 10 Professional OOP Apps</td>\n",
       "                        <td id=\"T_59de0b58_c068_11eb_8b2e_2816a84c4ederow6_col1\" class=\"data row6 col1\" >4.6234</td>\n",
       "                        <td id=\"T_59de0b58_c068_11eb_8b2e_2816a84c4ederow6_col2\" class=\"data row6 col2\" >470</td>\n",
       "            </tr>\n",
       "            <tr>\n",
       "                        <th id=\"T_59de0b58_c068_11eb_8b2e_2816a84c4edelevel0_row7\" class=\"row_heading level0 row7\" >7</th>\n",
       "                        <td id=\"T_59de0b58_c068_11eb_8b2e_2816a84c4ederow7_col0\" class=\"data row7 col0\" >The Python Mega Course: Build 10 Real World Applications</td>\n",
       "                        <td id=\"T_59de0b58_c068_11eb_8b2e_2816a84c4ederow7_col1\" class=\"data row7 col1\" >4.47727</td>\n",
       "                        <td id=\"T_59de0b58_c068_11eb_8b2e_2816a84c4ederow7_col2\" class=\"data row7 col2\" >35702</td>\n",
       "            </tr>\n",
       "    </tbody></table>"
      ],
      "text/plain": [
       "<pandas.io.formats.style.Styler at 0x151521cfc18>"
      ]
     },
     "execution_count": 28,
     "metadata": {},
     "output_type": "execute_result"
    }
   ],
   "source": [
    "# Final Joins \n",
    "Final_Output = pd.merge(Rating_by_course, Count_by_course, on = 'Course Name', how ='inner')\n",
    "\n",
    "#print(Final_Output)\n",
    "Final_Output.style"
   ]
  },
  {
   "cell_type": "code",
   "execution_count": 29,
   "metadata": {},
   "outputs": [
    {
     "data": {
      "text/html": [
       "<style  type=\"text/css\" >\n",
       "</style><table id=\"T_59e16700_c068_11eb_b517_2816a84c4ede\" ><thead>    <tr>        <th class=\"blank level0\" ></th>        <th class=\"col_heading level0 col0\" >Course Name</th>        <th class=\"col_heading level0 col1\" >AVG Rating</th>        <th class=\"col_heading level0 col2\" >Total Count</th>    </tr></thead><tbody>\n",
       "                <tr>\n",
       "                        <th id=\"T_59e16700_c068_11eb_b517_2816a84c4edelevel0_row0\" class=\"row_heading level0 row0\" >0</th>\n",
       "                        <td id=\"T_59e16700_c068_11eb_b517_2816a84c4ederow0_col0\" class=\"data row0 col0\" >100 Python Exercises I: Evaluate and Improve Your Skills</td>\n",
       "                        <td id=\"T_59e16700_c068_11eb_b517_2816a84c4ederow0_col1\" class=\"data row0 col1\" >4.3236</td>\n",
       "                        <td id=\"T_59e16700_c068_11eb_b517_2816a84c4ederow0_col2\" class=\"data row0 col2\" >1593</td>\n",
       "            </tr>\n",
       "            <tr>\n",
       "                        <th id=\"T_59e16700_c068_11eb_b517_2816a84c4edelevel0_row1\" class=\"row_heading level0 row1\" >1</th>\n",
       "                        <td id=\"T_59e16700_c068_11eb_b517_2816a84c4ederow1_col0\" class=\"data row1 col0\" >100 Python Exercises II: Evaluate and Improve Your Skills</td>\n",
       "                        <td id=\"T_59e16700_c068_11eb_b517_2816a84c4ederow1_col1\" class=\"data row1 col1\" >4.51964</td>\n",
       "                        <td id=\"T_59e16700_c068_11eb_b517_2816a84c4ederow1_col2\" class=\"data row1 col2\" >280</td>\n",
       "            </tr>\n",
       "            <tr>\n",
       "                        <th id=\"T_59e16700_c068_11eb_b517_2816a84c4edelevel0_row2\" class=\"row_heading level0 row2\" >2</th>\n",
       "                        <td id=\"T_59e16700_c068_11eb_b517_2816a84c4ederow2_col0\" class=\"data row2 col0\" >Data Processing with Python</td>\n",
       "                        <td id=\"T_59e16700_c068_11eb_b517_2816a84c4ederow2_col1\" class=\"data row2 col1\" >4.23733</td>\n",
       "                        <td id=\"T_59e16700_c068_11eb_b517_2816a84c4ederow2_col2\" class=\"data row2 col2\" >868</td>\n",
       "            </tr>\n",
       "            <tr>\n",
       "                        <th id=\"T_59e16700_c068_11eb_b517_2816a84c4edelevel0_row3\" class=\"row_heading level0 row3\" >3</th>\n",
       "                        <td id=\"T_59e16700_c068_11eb_b517_2816a84c4ederow3_col0\" class=\"data row3 col0\" >Interactive Data Visualization with Python and Bokeh</td>\n",
       "                        <td id=\"T_59e16700_c068_11eb_b517_2816a84c4ederow3_col1\" class=\"data row3 col1\" >4.2751</td>\n",
       "                        <td id=\"T_59e16700_c068_11eb_b517_2816a84c4ederow3_col2\" class=\"data row3 col2\" >767</td>\n",
       "            </tr>\n",
       "            <tr>\n",
       "                        <th id=\"T_59e16700_c068_11eb_b517_2816a84c4edelevel0_row4\" class=\"row_heading level0 row4\" >4</th>\n",
       "                        <td id=\"T_59e16700_c068_11eb_b517_2816a84c4ederow4_col0\" class=\"data row4 col0\" >Learn GIS in One Hour</td>\n",
       "                        <td id=\"T_59e16700_c068_11eb_b517_2816a84c4ederow4_col1\" class=\"data row4 col1\" >4.07114</td>\n",
       "                        <td id=\"T_59e16700_c068_11eb_b517_2816a84c4ederow4_col2\" class=\"data row4 col2\" >499</td>\n",
       "            </tr>\n",
       "            <tr>\n",
       "                        <th id=\"T_59e16700_c068_11eb_b517_2816a84c4edelevel0_row5\" class=\"row_heading level0 row5\" >5</th>\n",
       "                        <td id=\"T_59e16700_c068_11eb_b517_2816a84c4ederow5_col0\" class=\"data row5 col0\" >Python for Beginners with Examples</td>\n",
       "                        <td id=\"T_59e16700_c068_11eb_b517_2816a84c4ederow5_col1\" class=\"data row5 col1\" >4.30097</td>\n",
       "                        <td id=\"T_59e16700_c068_11eb_b517_2816a84c4ederow5_col2\" class=\"data row5 col2\" >4821</td>\n",
       "            </tr>\n",
       "            <tr>\n",
       "                        <th id=\"T_59e16700_c068_11eb_b517_2816a84c4edelevel0_row6\" class=\"row_heading level0 row6\" >6</th>\n",
       "                        <td id=\"T_59e16700_c068_11eb_b517_2816a84c4ederow6_col0\" class=\"data row6 col0\" >The Complete Python Course: Build 10 Professional OOP Apps</td>\n",
       "                        <td id=\"T_59e16700_c068_11eb_b517_2816a84c4ederow6_col1\" class=\"data row6 col1\" >4.6234</td>\n",
       "                        <td id=\"T_59e16700_c068_11eb_b517_2816a84c4ederow6_col2\" class=\"data row6 col2\" >470</td>\n",
       "            </tr>\n",
       "            <tr>\n",
       "                        <th id=\"T_59e16700_c068_11eb_b517_2816a84c4edelevel0_row7\" class=\"row_heading level0 row7\" >7</th>\n",
       "                        <td id=\"T_59e16700_c068_11eb_b517_2816a84c4ederow7_col0\" class=\"data row7 col0\" >The Python Mega Course: Build 10 Real World Applications</td>\n",
       "                        <td id=\"T_59e16700_c068_11eb_b517_2816a84c4ederow7_col1\" class=\"data row7 col1\" >4.47727</td>\n",
       "                        <td id=\"T_59e16700_c068_11eb_b517_2816a84c4ederow7_col2\" class=\"data row7 col2\" >35702</td>\n",
       "            </tr>\n",
       "    </tbody></table>"
      ],
      "text/plain": [
       "<pandas.io.formats.style.Styler at 0x151519ee390>"
      ]
     },
     "execution_count": 29,
     "metadata": {},
     "output_type": "execute_result"
    }
   ],
   "source": [
    "# Good way to display\n",
    "\n",
    "# importing the modules\n",
    "from IPython.display import display\n",
    "\n",
    "# display(Final_Output) # One way\n",
    "\n",
    "Final_Output.style #Better way"
   ]
  },
  {
   "cell_type": "markdown",
   "metadata": {},
   "source": [
    "###   <span style=\"color:blue\">2.3 Grouping on Single Column and Aggregation on Single column</span><a name=\"2.3\"></a>"
   ]
  },
  {
   "cell_type": "code",
   "execution_count": 30,
   "metadata": {},
   "outputs": [
    {
     "data": {
      "text/html": [
       "<style  type=\"text/css\" >\n",
       "</style><table id=\"T_59e73378_c068_11eb_b192_2816a84c4ede\" ><thead>    <tr>        <th class=\"blank level0\" ></th>        <th class=\"col_heading level0 col0\" >Course Name</th>        <th class=\"col_heading level0 col1\" >AVG Rating</th>        <th class=\"col_heading level0 col2\" >Total Rating</th>        <th class=\"col_heading level0 col3\" >Max Rating</th>        <th class=\"col_heading level0 col4\" >Min Rating</th>    </tr></thead><tbody>\n",
       "                <tr>\n",
       "                        <th id=\"T_59e73378_c068_11eb_b192_2816a84c4edelevel0_row0\" class=\"row_heading level0 row0\" >0</th>\n",
       "                        <td id=\"T_59e73378_c068_11eb_b192_2816a84c4ederow0_col0\" class=\"data row0 col0\" >100 Python Exercises I: Evaluate and Improve Your Skills</td>\n",
       "                        <td id=\"T_59e73378_c068_11eb_b192_2816a84c4ederow0_col1\" class=\"data row0 col1\" >4.3236</td>\n",
       "                        <td id=\"T_59e73378_c068_11eb_b192_2816a84c4ederow0_col2\" class=\"data row0 col2\" >1593</td>\n",
       "                        <td id=\"T_59e73378_c068_11eb_b192_2816a84c4ederow0_col3\" class=\"data row0 col3\" >5</td>\n",
       "                        <td id=\"T_59e73378_c068_11eb_b192_2816a84c4ederow0_col4\" class=\"data row0 col4\" >1</td>\n",
       "            </tr>\n",
       "            <tr>\n",
       "                        <th id=\"T_59e73378_c068_11eb_b192_2816a84c4edelevel0_row1\" class=\"row_heading level0 row1\" >1</th>\n",
       "                        <td id=\"T_59e73378_c068_11eb_b192_2816a84c4ederow1_col0\" class=\"data row1 col0\" >100 Python Exercises II: Evaluate and Improve Your Skills</td>\n",
       "                        <td id=\"T_59e73378_c068_11eb_b192_2816a84c4ederow1_col1\" class=\"data row1 col1\" >4.51964</td>\n",
       "                        <td id=\"T_59e73378_c068_11eb_b192_2816a84c4ederow1_col2\" class=\"data row1 col2\" >280</td>\n",
       "                        <td id=\"T_59e73378_c068_11eb_b192_2816a84c4ederow1_col3\" class=\"data row1 col3\" >5</td>\n",
       "                        <td id=\"T_59e73378_c068_11eb_b192_2816a84c4ederow1_col4\" class=\"data row1 col4\" >2</td>\n",
       "            </tr>\n",
       "            <tr>\n",
       "                        <th id=\"T_59e73378_c068_11eb_b192_2816a84c4edelevel0_row2\" class=\"row_heading level0 row2\" >2</th>\n",
       "                        <td id=\"T_59e73378_c068_11eb_b192_2816a84c4ederow2_col0\" class=\"data row2 col0\" >Data Processing with Python</td>\n",
       "                        <td id=\"T_59e73378_c068_11eb_b192_2816a84c4ederow2_col1\" class=\"data row2 col1\" >4.23733</td>\n",
       "                        <td id=\"T_59e73378_c068_11eb_b192_2816a84c4ederow2_col2\" class=\"data row2 col2\" >868</td>\n",
       "                        <td id=\"T_59e73378_c068_11eb_b192_2816a84c4ederow2_col3\" class=\"data row2 col3\" >5</td>\n",
       "                        <td id=\"T_59e73378_c068_11eb_b192_2816a84c4ederow2_col4\" class=\"data row2 col4\" >1</td>\n",
       "            </tr>\n",
       "            <tr>\n",
       "                        <th id=\"T_59e73378_c068_11eb_b192_2816a84c4edelevel0_row3\" class=\"row_heading level0 row3\" >3</th>\n",
       "                        <td id=\"T_59e73378_c068_11eb_b192_2816a84c4ederow3_col0\" class=\"data row3 col0\" >Interactive Data Visualization with Python and Bokeh</td>\n",
       "                        <td id=\"T_59e73378_c068_11eb_b192_2816a84c4ederow3_col1\" class=\"data row3 col1\" >4.2751</td>\n",
       "                        <td id=\"T_59e73378_c068_11eb_b192_2816a84c4ederow3_col2\" class=\"data row3 col2\" >767</td>\n",
       "                        <td id=\"T_59e73378_c068_11eb_b192_2816a84c4ederow3_col3\" class=\"data row3 col3\" >5</td>\n",
       "                        <td id=\"T_59e73378_c068_11eb_b192_2816a84c4ederow3_col4\" class=\"data row3 col4\" >1</td>\n",
       "            </tr>\n",
       "            <tr>\n",
       "                        <th id=\"T_59e73378_c068_11eb_b192_2816a84c4edelevel0_row4\" class=\"row_heading level0 row4\" >4</th>\n",
       "                        <td id=\"T_59e73378_c068_11eb_b192_2816a84c4ederow4_col0\" class=\"data row4 col0\" >Learn GIS in One Hour</td>\n",
       "                        <td id=\"T_59e73378_c068_11eb_b192_2816a84c4ederow4_col1\" class=\"data row4 col1\" >4.07114</td>\n",
       "                        <td id=\"T_59e73378_c068_11eb_b192_2816a84c4ederow4_col2\" class=\"data row4 col2\" >499</td>\n",
       "                        <td id=\"T_59e73378_c068_11eb_b192_2816a84c4ederow4_col3\" class=\"data row4 col3\" >5</td>\n",
       "                        <td id=\"T_59e73378_c068_11eb_b192_2816a84c4ederow4_col4\" class=\"data row4 col4\" >1</td>\n",
       "            </tr>\n",
       "            <tr>\n",
       "                        <th id=\"T_59e73378_c068_11eb_b192_2816a84c4edelevel0_row5\" class=\"row_heading level0 row5\" >5</th>\n",
       "                        <td id=\"T_59e73378_c068_11eb_b192_2816a84c4ederow5_col0\" class=\"data row5 col0\" >Python for Beginners with Examples</td>\n",
       "                        <td id=\"T_59e73378_c068_11eb_b192_2816a84c4ederow5_col1\" class=\"data row5 col1\" >4.30097</td>\n",
       "                        <td id=\"T_59e73378_c068_11eb_b192_2816a84c4ederow5_col2\" class=\"data row5 col2\" >4821</td>\n",
       "                        <td id=\"T_59e73378_c068_11eb_b192_2816a84c4ederow5_col3\" class=\"data row5 col3\" >5</td>\n",
       "                        <td id=\"T_59e73378_c068_11eb_b192_2816a84c4ederow5_col4\" class=\"data row5 col4\" >0.5</td>\n",
       "            </tr>\n",
       "            <tr>\n",
       "                        <th id=\"T_59e73378_c068_11eb_b192_2816a84c4edelevel0_row6\" class=\"row_heading level0 row6\" >6</th>\n",
       "                        <td id=\"T_59e73378_c068_11eb_b192_2816a84c4ederow6_col0\" class=\"data row6 col0\" >The Complete Python Course: Build 10 Professional OOP Apps</td>\n",
       "                        <td id=\"T_59e73378_c068_11eb_b192_2816a84c4ederow6_col1\" class=\"data row6 col1\" >4.6234</td>\n",
       "                        <td id=\"T_59e73378_c068_11eb_b192_2816a84c4ederow6_col2\" class=\"data row6 col2\" >470</td>\n",
       "                        <td id=\"T_59e73378_c068_11eb_b192_2816a84c4ederow6_col3\" class=\"data row6 col3\" >5</td>\n",
       "                        <td id=\"T_59e73378_c068_11eb_b192_2816a84c4ederow6_col4\" class=\"data row6 col4\" >1</td>\n",
       "            </tr>\n",
       "            <tr>\n",
       "                        <th id=\"T_59e73378_c068_11eb_b192_2816a84c4edelevel0_row7\" class=\"row_heading level0 row7\" >7</th>\n",
       "                        <td id=\"T_59e73378_c068_11eb_b192_2816a84c4ederow7_col0\" class=\"data row7 col0\" >The Python Mega Course: Build 10 Real World Applications</td>\n",
       "                        <td id=\"T_59e73378_c068_11eb_b192_2816a84c4ederow7_col1\" class=\"data row7 col1\" >4.47727</td>\n",
       "                        <td id=\"T_59e73378_c068_11eb_b192_2816a84c4ederow7_col2\" class=\"data row7 col2\" >35702</td>\n",
       "                        <td id=\"T_59e73378_c068_11eb_b192_2816a84c4ederow7_col3\" class=\"data row7 col3\" >5</td>\n",
       "                        <td id=\"T_59e73378_c068_11eb_b192_2816a84c4ederow7_col4\" class=\"data row7 col4\" >0.5</td>\n",
       "            </tr>\n",
       "    </tbody></table>"
      ],
      "text/plain": [
       "<pandas.io.formats.style.Styler at 0x151521cf438>"
      ]
     },
     "execution_count": 30,
     "metadata": {},
     "output_type": "execute_result"
    }
   ],
   "source": [
    "multi_aggree_single_clm =  data.groupby('Course Name').agg({'Rating' : ['mean', 'count','max', 'min']})\n",
    "\n",
    "\n",
    "# Applying multiple aggregation functions to a single column will result in a multiindex. \n",
    "# Working with multi-indexed columns is a pain and I’d recommend flattening this after aggregating by renaming \n",
    "#the new columns.\n",
    "\n",
    "# rename columns\n",
    "multi_aggree_single_clm.columns = ['AVG Rating', 'Total Rating', 'Max Rating', 'Min Rating']\n",
    "\n",
    "# reset index to get grouped columns back\n",
    "multi_aggree_single_clm = multi_aggree_single_clm .reset_index()\n",
    "\n",
    "#print(multi_aggree_single_clm)\n",
    "\n",
    "multi_aggree_single_clm .style\n"
   ]
  },
  {
   "cell_type": "markdown",
   "metadata": {},
   "source": [
    "### <span style=\"color:blue\">2.4 Grouping on Single Column and Aggregation on Multiple Columns</span><a name=\"2.4\"></a>"
   ]
  },
  {
   "cell_type": "code",
   "execution_count": 31,
   "metadata": {},
   "outputs": [
    {
     "data": {
      "text/html": [
       "<style  type=\"text/css\" >\n",
       "</style><table id=\"T_59ef97ae_c068_11eb_9914_2816a84c4ede\" ><thead>    <tr>        <th class=\"blank level0\" ></th>        <th class=\"col_heading level0 col0\" >Course Name</th>        <th class=\"col_heading level0 col1\" >AVG Rating</th>        <th class=\"col_heading level0 col2\" >Total Rating</th>        <th class=\"col_heading level0 col3\" >Max Rating</th>        <th class=\"col_heading level0 col4\" >Min Rating</th>        <th class=\"col_heading level0 col5\" >Total Comment</th>    </tr></thead><tbody>\n",
       "                <tr>\n",
       "                        <th id=\"T_59ef97ae_c068_11eb_9914_2816a84c4edelevel0_row0\" class=\"row_heading level0 row0\" >0</th>\n",
       "                        <td id=\"T_59ef97ae_c068_11eb_9914_2816a84c4ederow0_col0\" class=\"data row0 col0\" >100 Python Exercises I: Evaluate and Improve Your Skills</td>\n",
       "                        <td id=\"T_59ef97ae_c068_11eb_9914_2816a84c4ederow0_col1\" class=\"data row0 col1\" >4.3236</td>\n",
       "                        <td id=\"T_59ef97ae_c068_11eb_9914_2816a84c4ederow0_col2\" class=\"data row0 col2\" >1593</td>\n",
       "                        <td id=\"T_59ef97ae_c068_11eb_9914_2816a84c4ederow0_col3\" class=\"data row0 col3\" >5</td>\n",
       "                        <td id=\"T_59ef97ae_c068_11eb_9914_2816a84c4ederow0_col4\" class=\"data row0 col4\" >1</td>\n",
       "                        <td id=\"T_59ef97ae_c068_11eb_9914_2816a84c4ederow0_col5\" class=\"data row0 col5\" >231</td>\n",
       "            </tr>\n",
       "            <tr>\n",
       "                        <th id=\"T_59ef97ae_c068_11eb_9914_2816a84c4edelevel0_row1\" class=\"row_heading level0 row1\" >1</th>\n",
       "                        <td id=\"T_59ef97ae_c068_11eb_9914_2816a84c4ederow1_col0\" class=\"data row1 col0\" >100 Python Exercises II: Evaluate and Improve Your Skills</td>\n",
       "                        <td id=\"T_59ef97ae_c068_11eb_9914_2816a84c4ederow1_col1\" class=\"data row1 col1\" >4.51964</td>\n",
       "                        <td id=\"T_59ef97ae_c068_11eb_9914_2816a84c4ederow1_col2\" class=\"data row1 col2\" >280</td>\n",
       "                        <td id=\"T_59ef97ae_c068_11eb_9914_2816a84c4ederow1_col3\" class=\"data row1 col3\" >5</td>\n",
       "                        <td id=\"T_59ef97ae_c068_11eb_9914_2816a84c4ederow1_col4\" class=\"data row1 col4\" >2</td>\n",
       "                        <td id=\"T_59ef97ae_c068_11eb_9914_2816a84c4ederow1_col5\" class=\"data row1 col5\" >81</td>\n",
       "            </tr>\n",
       "            <tr>\n",
       "                        <th id=\"T_59ef97ae_c068_11eb_9914_2816a84c4edelevel0_row2\" class=\"row_heading level0 row2\" >2</th>\n",
       "                        <td id=\"T_59ef97ae_c068_11eb_9914_2816a84c4ederow2_col0\" class=\"data row2 col0\" >Data Processing with Python</td>\n",
       "                        <td id=\"T_59ef97ae_c068_11eb_9914_2816a84c4ederow2_col1\" class=\"data row2 col1\" >4.23733</td>\n",
       "                        <td id=\"T_59ef97ae_c068_11eb_9914_2816a84c4ederow2_col2\" class=\"data row2 col2\" >868</td>\n",
       "                        <td id=\"T_59ef97ae_c068_11eb_9914_2816a84c4ederow2_col3\" class=\"data row2 col3\" >5</td>\n",
       "                        <td id=\"T_59ef97ae_c068_11eb_9914_2816a84c4ederow2_col4\" class=\"data row2 col4\" >1</td>\n",
       "                        <td id=\"T_59ef97ae_c068_11eb_9914_2816a84c4ederow2_col5\" class=\"data row2 col5\" >117</td>\n",
       "            </tr>\n",
       "            <tr>\n",
       "                        <th id=\"T_59ef97ae_c068_11eb_9914_2816a84c4edelevel0_row3\" class=\"row_heading level0 row3\" >3</th>\n",
       "                        <td id=\"T_59ef97ae_c068_11eb_9914_2816a84c4ederow3_col0\" class=\"data row3 col0\" >Interactive Data Visualization with Python and Bokeh</td>\n",
       "                        <td id=\"T_59ef97ae_c068_11eb_9914_2816a84c4ederow3_col1\" class=\"data row3 col1\" >4.2751</td>\n",
       "                        <td id=\"T_59ef97ae_c068_11eb_9914_2816a84c4ederow3_col2\" class=\"data row3 col2\" >767</td>\n",
       "                        <td id=\"T_59ef97ae_c068_11eb_9914_2816a84c4ederow3_col3\" class=\"data row3 col3\" >5</td>\n",
       "                        <td id=\"T_59ef97ae_c068_11eb_9914_2816a84c4ederow3_col4\" class=\"data row3 col4\" >1</td>\n",
       "                        <td id=\"T_59ef97ae_c068_11eb_9914_2816a84c4ederow3_col5\" class=\"data row3 col5\" >118</td>\n",
       "            </tr>\n",
       "            <tr>\n",
       "                        <th id=\"T_59ef97ae_c068_11eb_9914_2816a84c4edelevel0_row4\" class=\"row_heading level0 row4\" >4</th>\n",
       "                        <td id=\"T_59ef97ae_c068_11eb_9914_2816a84c4ederow4_col0\" class=\"data row4 col0\" >Learn GIS in One Hour</td>\n",
       "                        <td id=\"T_59ef97ae_c068_11eb_9914_2816a84c4ederow4_col1\" class=\"data row4 col1\" >4.07114</td>\n",
       "                        <td id=\"T_59ef97ae_c068_11eb_9914_2816a84c4ederow4_col2\" class=\"data row4 col2\" >499</td>\n",
       "                        <td id=\"T_59ef97ae_c068_11eb_9914_2816a84c4ederow4_col3\" class=\"data row4 col3\" >5</td>\n",
       "                        <td id=\"T_59ef97ae_c068_11eb_9914_2816a84c4ederow4_col4\" class=\"data row4 col4\" >1</td>\n",
       "                        <td id=\"T_59ef97ae_c068_11eb_9914_2816a84c4ederow4_col5\" class=\"data row4 col5\" >119</td>\n",
       "            </tr>\n",
       "            <tr>\n",
       "                        <th id=\"T_59ef97ae_c068_11eb_9914_2816a84c4edelevel0_row5\" class=\"row_heading level0 row5\" >5</th>\n",
       "                        <td id=\"T_59ef97ae_c068_11eb_9914_2816a84c4ederow5_col0\" class=\"data row5 col0\" >Python for Beginners with Examples</td>\n",
       "                        <td id=\"T_59ef97ae_c068_11eb_9914_2816a84c4ederow5_col1\" class=\"data row5 col1\" >4.30097</td>\n",
       "                        <td id=\"T_59ef97ae_c068_11eb_9914_2816a84c4ederow5_col2\" class=\"data row5 col2\" >4821</td>\n",
       "                        <td id=\"T_59ef97ae_c068_11eb_9914_2816a84c4ederow5_col3\" class=\"data row5 col3\" >5</td>\n",
       "                        <td id=\"T_59ef97ae_c068_11eb_9914_2816a84c4ederow5_col4\" class=\"data row5 col4\" >0.5</td>\n",
       "                        <td id=\"T_59ef97ae_c068_11eb_9914_2816a84c4ederow5_col5\" class=\"data row5 col5\" >764</td>\n",
       "            </tr>\n",
       "            <tr>\n",
       "                        <th id=\"T_59ef97ae_c068_11eb_9914_2816a84c4edelevel0_row6\" class=\"row_heading level0 row6\" >6</th>\n",
       "                        <td id=\"T_59ef97ae_c068_11eb_9914_2816a84c4ederow6_col0\" class=\"data row6 col0\" >The Complete Python Course: Build 10 Professional OOP Apps</td>\n",
       "                        <td id=\"T_59ef97ae_c068_11eb_9914_2816a84c4ederow6_col1\" class=\"data row6 col1\" >4.6234</td>\n",
       "                        <td id=\"T_59ef97ae_c068_11eb_9914_2816a84c4ederow6_col2\" class=\"data row6 col2\" >470</td>\n",
       "                        <td id=\"T_59ef97ae_c068_11eb_9914_2816a84c4ederow6_col3\" class=\"data row6 col3\" >5</td>\n",
       "                        <td id=\"T_59ef97ae_c068_11eb_9914_2816a84c4ederow6_col4\" class=\"data row6 col4\" >1</td>\n",
       "                        <td id=\"T_59ef97ae_c068_11eb_9914_2816a84c4ederow6_col5\" class=\"data row6 col5\" >91</td>\n",
       "            </tr>\n",
       "            <tr>\n",
       "                        <th id=\"T_59ef97ae_c068_11eb_9914_2816a84c4edelevel0_row7\" class=\"row_heading level0 row7\" >7</th>\n",
       "                        <td id=\"T_59ef97ae_c068_11eb_9914_2816a84c4ederow7_col0\" class=\"data row7 col0\" >The Python Mega Course: Build 10 Real World Applications</td>\n",
       "                        <td id=\"T_59ef97ae_c068_11eb_9914_2816a84c4ederow7_col1\" class=\"data row7 col1\" >4.47727</td>\n",
       "                        <td id=\"T_59ef97ae_c068_11eb_9914_2816a84c4ederow7_col2\" class=\"data row7 col2\" >35702</td>\n",
       "                        <td id=\"T_59ef97ae_c068_11eb_9914_2816a84c4ederow7_col3\" class=\"data row7 col3\" >5</td>\n",
       "                        <td id=\"T_59ef97ae_c068_11eb_9914_2816a84c4ederow7_col4\" class=\"data row7 col4\" >0.5</td>\n",
       "                        <td id=\"T_59ef97ae_c068_11eb_9914_2816a84c4ederow7_col5\" class=\"data row7 col5\" >5278</td>\n",
       "            </tr>\n",
       "    </tbody></table>"
      ],
      "text/plain": [
       "<pandas.io.formats.style.Styler at 0x151521f0470>"
      ]
     },
     "execution_count": 31,
     "metadata": {},
     "output_type": "execute_result"
    }
   ],
   "source": [
    "multi_aggree_multiple_clm =  data.groupby(['Course Name']).agg({'Rating' : ['mean', 'count','max', 'min'], 'Comment' : 'count'})\n",
    "\n",
    "\n",
    "# Applying multiple aggregation functions to a single column will result in a multiindex. \n",
    "# Working with multi-indexed columns is a pain and I’d recommend flattening this after aggregating by renaming \n",
    "#the new columns.\n",
    "\n",
    "# rename columns\n",
    "multi_aggree_multiple_clm.columns = ['AVG Rating', 'Total Rating', 'Max Rating', 'Min Rating', 'Total Comment']\n",
    "\n",
    "# reset index to get grouped columns back\n",
    "multi_aggree_multiple_clm = multi_aggree_multiple_clm.reset_index()\n",
    "\n",
    "#print(multi_aggree)\n",
    "\n",
    "multi_aggree_multiple_clm.style\n"
   ]
  },
  {
   "cell_type": "markdown",
   "metadata": {},
   "source": [
    "### <span style=\"color:blue\">2.5 Grouping on Multiple Column and Aggregation on Multiple Columns and Sorting</span><a name=\"2.5\"></a>"
   ]
  },
  {
   "cell_type": "code",
   "execution_count": 32,
   "metadata": {},
   "outputs": [
    {
     "data": {
      "text/html": [
       "<div>\n",
       "<style scoped>\n",
       "    .dataframe tbody tr th:only-of-type {\n",
       "        vertical-align: middle;\n",
       "    }\n",
       "\n",
       "    .dataframe tbody tr th {\n",
       "        vertical-align: top;\n",
       "    }\n",
       "\n",
       "    .dataframe thead th {\n",
       "        text-align: right;\n",
       "    }\n",
       "</style>\n",
       "<table border=\"1\" class=\"dataframe\">\n",
       "  <thead>\n",
       "    <tr style=\"text-align: right;\">\n",
       "      <th></th>\n",
       "      <th>Course Name</th>\n",
       "      <th>Report Month</th>\n",
       "      <th>AVG Rating</th>\n",
       "      <th>Total Rating</th>\n",
       "      <th>Max Rating</th>\n",
       "      <th>Min Rating</th>\n",
       "      <th>Total Comment</th>\n",
       "    </tr>\n",
       "  </thead>\n",
       "  <tbody>\n",
       "    <tr>\n",
       "      <th>0</th>\n",
       "      <td>100 Python Exercises I: Evaluate and Improve Y...</td>\n",
       "      <td>2018-01-01</td>\n",
       "      <td>4.833333</td>\n",
       "      <td>3</td>\n",
       "      <td>5.0</td>\n",
       "      <td>4.5</td>\n",
       "      <td>0</td>\n",
       "    </tr>\n",
       "    <tr>\n",
       "      <th>1</th>\n",
       "      <td>100 Python Exercises I: Evaluate and Improve Y...</td>\n",
       "      <td>2018-01-02</td>\n",
       "      <td>4.333333</td>\n",
       "      <td>3</td>\n",
       "      <td>5.0</td>\n",
       "      <td>3.0</td>\n",
       "      <td>1</td>\n",
       "    </tr>\n",
       "    <tr>\n",
       "      <th>2</th>\n",
       "      <td>100 Python Exercises I: Evaluate and Improve Y...</td>\n",
       "      <td>2018-01-04</td>\n",
       "      <td>4.000000</td>\n",
       "      <td>1</td>\n",
       "      <td>4.0</td>\n",
       "      <td>4.0</td>\n",
       "      <td>0</td>\n",
       "    </tr>\n",
       "    <tr>\n",
       "      <th>3</th>\n",
       "      <td>100 Python Exercises I: Evaluate and Improve Y...</td>\n",
       "      <td>2018-01-05</td>\n",
       "      <td>4.250000</td>\n",
       "      <td>2</td>\n",
       "      <td>4.5</td>\n",
       "      <td>4.0</td>\n",
       "      <td>1</td>\n",
       "    </tr>\n",
       "    <tr>\n",
       "      <th>4</th>\n",
       "      <td>100 Python Exercises I: Evaluate and Improve Y...</td>\n",
       "      <td>2018-01-06</td>\n",
       "      <td>5.000000</td>\n",
       "      <td>3</td>\n",
       "      <td>5.0</td>\n",
       "      <td>5.0</td>\n",
       "      <td>1</td>\n",
       "    </tr>\n",
       "    <tr>\n",
       "      <th>5</th>\n",
       "      <td>100 Python Exercises I: Evaluate and Improve Y...</td>\n",
       "      <td>2018-01-07</td>\n",
       "      <td>3.000000</td>\n",
       "      <td>1</td>\n",
       "      <td>3.0</td>\n",
       "      <td>3.0</td>\n",
       "      <td>0</td>\n",
       "    </tr>\n",
       "    <tr>\n",
       "      <th>6</th>\n",
       "      <td>100 Python Exercises I: Evaluate and Improve Y...</td>\n",
       "      <td>2018-01-08</td>\n",
       "      <td>4.000000</td>\n",
       "      <td>3</td>\n",
       "      <td>5.0</td>\n",
       "      <td>2.0</td>\n",
       "      <td>1</td>\n",
       "    </tr>\n",
       "    <tr>\n",
       "      <th>7</th>\n",
       "      <td>100 Python Exercises I: Evaluate and Improve Y...</td>\n",
       "      <td>2018-01-09</td>\n",
       "      <td>3.333333</td>\n",
       "      <td>3</td>\n",
       "      <td>4.0</td>\n",
       "      <td>2.0</td>\n",
       "      <td>0</td>\n",
       "    </tr>\n",
       "    <tr>\n",
       "      <th>8</th>\n",
       "      <td>100 Python Exercises I: Evaluate and Improve Y...</td>\n",
       "      <td>2018-01-11</td>\n",
       "      <td>5.000000</td>\n",
       "      <td>1</td>\n",
       "      <td>5.0</td>\n",
       "      <td>5.0</td>\n",
       "      <td>0</td>\n",
       "    </tr>\n",
       "    <tr>\n",
       "      <th>9</th>\n",
       "      <td>100 Python Exercises I: Evaluate and Improve Y...</td>\n",
       "      <td>2018-01-12</td>\n",
       "      <td>4.666667</td>\n",
       "      <td>3</td>\n",
       "      <td>5.0</td>\n",
       "      <td>4.5</td>\n",
       "      <td>2</td>\n",
       "    </tr>\n",
       "  </tbody>\n",
       "</table>\n",
       "</div>"
      ],
      "text/plain": [
       "                                         Course Name Report Month  AVG Rating  \\\n",
       "0  100 Python Exercises I: Evaluate and Improve Y...   2018-01-01    4.833333   \n",
       "1  100 Python Exercises I: Evaluate and Improve Y...   2018-01-02    4.333333   \n",
       "2  100 Python Exercises I: Evaluate and Improve Y...   2018-01-04    4.000000   \n",
       "3  100 Python Exercises I: Evaluate and Improve Y...   2018-01-05    4.250000   \n",
       "4  100 Python Exercises I: Evaluate and Improve Y...   2018-01-06    5.000000   \n",
       "5  100 Python Exercises I: Evaluate and Improve Y...   2018-01-07    3.000000   \n",
       "6  100 Python Exercises I: Evaluate and Improve Y...   2018-01-08    4.000000   \n",
       "7  100 Python Exercises I: Evaluate and Improve Y...   2018-01-09    3.333333   \n",
       "8  100 Python Exercises I: Evaluate and Improve Y...   2018-01-11    5.000000   \n",
       "9  100 Python Exercises I: Evaluate and Improve Y...   2018-01-12    4.666667   \n",
       "\n",
       "   Total Rating  Max Rating  Min Rating  Total Comment  \n",
       "0             3         5.0         4.5              0  \n",
       "1             3         5.0         3.0              1  \n",
       "2             1         4.0         4.0              0  \n",
       "3             2         4.5         4.0              1  \n",
       "4             3         5.0         5.0              1  \n",
       "5             1         3.0         3.0              0  \n",
       "6             3         5.0         2.0              1  \n",
       "7             3         4.0         2.0              0  \n",
       "8             1         5.0         5.0              0  \n",
       "9             3         5.0         4.5              2  "
      ]
     },
     "execution_count": 32,
     "metadata": {},
     "output_type": "execute_result"
    }
   ],
   "source": [
    "multi_grp =  data.groupby(['Course Name', 'Report Month']).agg({'Rating' : ['mean', 'count','max', 'min'], 'Comment' : 'count'})\n",
    "\n",
    "# rename columns\n",
    "multi_grp.columns = ['AVG Rating', 'Total Rating', 'Max Rating', 'Min Rating', 'Total Comment']\n",
    "\n",
    "# reset index to get grouped columns back\n",
    "multi_grp = multi_grp .reset_index()\n",
    "\n",
    "\n",
    "#Sorting by course name and month\n",
    "multi_grp.sort_values(by=['Course Name', 'Report Month'])\n",
    "\n",
    "\n",
    "\n",
    "multi_grp.head(10)\n",
    "\n"
   ]
  },
  {
   "cell_type": "code",
   "execution_count": null,
   "metadata": {},
   "outputs": [],
   "source": []
  },
  {
   "cell_type": "code",
   "execution_count": null,
   "metadata": {},
   "outputs": [],
   "source": []
  }
 ],
 "metadata": {
  "kernelspec": {
   "display_name": "Python 3",
   "language": "python",
   "name": "python3"
  },
  "language_info": {
   "codemirror_mode": {
    "name": "ipython",
    "version": 3
   },
   "file_extension": ".py",
   "mimetype": "text/x-python",
   "name": "python",
   "nbconvert_exporter": "python",
   "pygments_lexer": "ipython3",
   "version": "3.7.3"
  }
 },
 "nbformat": 4,
 "nbformat_minor": 2
}
